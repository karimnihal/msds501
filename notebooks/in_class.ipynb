{
 "cells": [
  {
   "cell_type": "code",
   "execution_count": 10,
   "metadata": {},
   "outputs": [
    {
     "name": "stdout",
     "output_type": "stream",
     "text": [
      "fl\n"
     ]
    }
   ],
   "source": [
    "strs = [\"flower\", \"flow\", \"flight\"]\n",
    "\n",
    "comm_prefix = strs[0]\n",
    "for s in strs[1:]:\n",
    "    prefix_len = 0\n",
    "    for i in range(min(len(s), len(comm_prefix))):\n",
    "        if s[i] == comm_prefix[i]:\n",
    "            prefix_len += 1\n",
    "        else:\n",
    "            break\n",
    "    comm_prefix = comm_prefix[:prefix_len]\n",
    "print(comm_prefix)"
   ]
  }
 ],
 "metadata": {
  "kernelspec": {
   "display_name": "base",
   "language": "python",
   "name": "python3"
  },
  "language_info": {
   "codemirror_mode": {
    "name": "ipython",
    "version": 3
   },
   "file_extension": ".py",
   "mimetype": "text/x-python",
   "name": "python",
   "nbconvert_exporter": "python",
   "pygments_lexer": "ipython3",
   "version": "3.12.4"
  }
 },
 "nbformat": 4,
 "nbformat_minor": 2
}
