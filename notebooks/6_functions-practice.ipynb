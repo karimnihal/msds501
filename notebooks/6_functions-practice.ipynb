{
 "cells": [
  {
   "cell_type": "markdown",
   "id": "075522c3-9abf-4a80-8693-688be4fa1fb1",
   "metadata": {
    "tags": []
   },
   "source": [
    "# Python functions practice\n",
    "\n",
    "The goal of this lab is to practice/ test your basic knowledge of Python functions.\n",
    "\n",
    "(The solutions do not appear if you view this file from github, so download the notebook to your laptop and view it in Jupyter. Clicking on the ▶`Solution` button opens up the solution for each question.)"
   ]
  },
  {
   "cell_type": "markdown",
   "id": "8351b09b-d61e-43f7-b595-cf62cee0ee13",
   "metadata": {},
   "source": [
    "### Question\n",
    "\n",
    "Write a function called `dub(x)` that returns twice the numeric argument.\n",
    "\n",
    "<details>\n",
    "<summary>Solution</summary>\n",
    "<pre>\n",
    "def dub(x): return 2*x\n",
    "</pre>\n",
    "</details>"
   ]
  },
  {
   "cell_type": "markdown",
   "id": "6221a738-ac8b-4c37-97ff-35a227cd199e",
   "metadata": {},
   "source": [
    "### Question\n",
    "\n",
    "Write a function called `max(x,y)` that returns the larger of `x` and `y`.  If the two values are equal, return either value.\n",
    "\n",
    "<details>\n",
    "<summary>Solution</summary>\n",
    "<pre>\n",
    "def max(x,y):\n",
    "    if x >= y: return x\n",
    "    return y  # or \"else: return y\"\n",
    "</pre>\n",
    "</details>"
   ]
  },
  {
   "cell_type": "markdown",
   "id": "b57f8c4b-2162-4fb7-9581-d75ac75c208f",
   "metadata": {},
   "source": [
    "### Question\n",
    "\n",
    "What does this function return?\n",
    "\n",
    "```python\n",
    "def f():\n",
    "    print(3.14)\n",
    "```\n",
    "\n",
    "<details>\n",
    "<summary>Solution</summary>\n",
    "The return value is None. Though the function does print 3.14, that is nothing to do with the return value. In the absence of a return statement, None is returned.\n",
    "</details>"
   ]
  },
  {
   "cell_type": "markdown",
   "id": "49ce466a-281c-4118-b1ce-bfef795f8cfa",
   "metadata": {},
   "source": [
    "### Question\n",
    "\n",
    "What does this function print?\n",
    "\n",
    "```python\n",
    "def f():\n",
    "    return 3.14\n",
    "```\n",
    "\n",
    "<details>\n",
    "<summary>Solution</summary>\n",
    "This function prints nothing.  It does, however, return a value of 3.14, but that is nothing to do with printing. In Jupyter lab, though, you would see output 3.14 if you called `f()` on a line by itself because it is operating in interactive mode. Still, the function does not print anything itself; it would be Jupyter doing the printing.\n",
    "</details>"
   ]
  },
  {
   "cell_type": "markdown",
   "id": "ab642e8e-afdc-40db-9e85-8278d3c69d73",
   "metadata": {},
   "source": [
    "### Question\n",
    "\n",
    "Using the `max()` function you just wrote, find a maximum the following three numbers 5, -3, and 10.\n",
    "\n",
    "<details>\n",
    "<summary>Solution</summary>\n",
    "<pre>\n",
    "max(5, max(-3, 10))\n",
    "</pre>\n",
    "</details>"
   ]
  },
  {
   "cell_type": "markdown",
   "id": "ca14881a-f98d-4616-9145-3a307c151efa",
   "metadata": {},
   "source": [
    "### Question\n",
    "\n",
    "Does this function return -1, `[3, 5, 7]`, or just 3?\n",
    " \n",
    "```python\n",
    "def f():\n",
    "     values = [1, 3, 5, 7]\n",
    "     for v in values:\n",
    "         if v > 2:\n",
    "             return v\n",
    "     return -1\n",
    "```\n",
    "\n",
    "<details>\n",
    "<summary>Solution</summary>\n",
    "The return value is 3. Remember that the return statement acts like a jump out of the function. A return statement in a loop does not collect a bunch of values and then return those. Because we jump out of the function from within the loop, we never get to the return -1 statement so -1 can't be the answer.\n",
    "</details>"
   ]
  },
  {
   "cell_type": "markdown",
   "id": "80f060d9-2f28-4020-bc1e-2317f21a2f56",
   "metadata": {},
   "source": [
    "### Question\n",
    "\n",
    "Write a Python function called `mult(data)` that returns the multiplication of all of the elements in the `data` list argument.\n",
    "\n",
    "<details>\n",
    "<summary>Solution</summary>\n",
    "<pre>\n",
    "def mult(data):\n",
    "    v = 1\n",
    "    for x in data:\n",
    "        v *= x\n",
    "    return v\n",
    "</pre>\n",
    "</details>"
   ]
  },
  {
   "cell_type": "markdown",
   "id": "f3d8fb35-0a55-4817-9123-182b818d0d40",
   "metadata": {},
   "source": [
    "### Question\n",
    "\n",
    "Write a function called `decimate(data)` that alters the list of numbers coming in by dividing each by 10. There is no return value; it modifies the incoming list.\n",
    " \n",
    "```python\n",
    "values = [1, 3, 5, 7]\n",
    "decimate(values)\n",
    "print(values)\n",
    "```\n",
    "\n",
    "<details>\n",
    "<summary>Solution</summary>\n",
    "    Because we need to alter the elements of the incoming list, we can use a for-each list. We have to use an indexed loop.\n",
    "<pre>\n",
    "def decimate(data):\n",
    "    for i in range(len(data)):\n",
    "        data[i] /= 10\n",
    "</pre>\n",
    "</details>"
   ]
  },
  {
   "cell_type": "markdown",
   "id": "0b09d778-8959-42bb-b1fe-aeeafbb92a1a",
   "metadata": {},
   "source": [
    "### Question\n",
    "\n",
    "What is the output of the following program?\n",
    " \n",
    "```python\n",
    "x = 10\n",
    "def f():\n",
    "    print(x)\n",
    "```\n",
    "\n",
    "<details>\n",
    "<summary>Solution</summary>\n",
    "This is a trick question. We didn't call the function so there is no output from this program.\n",
    "</details>"
   ]
  },
  {
   "cell_type": "markdown",
   "id": "40f14d53-a6d8-4314-af89-8385637a47c2",
   "metadata": {},
   "source": [
    "### Question\n",
    "\n",
    "What is the output of the following program?\n",
    " \n",
    "```python\n",
    "x = [5,6]\n",
    "def f():\n",
    "    print(sum(x))\n",
    "\n",
    "x = [1,2,3]\n",
    "f()\n",
    "```\n",
    "\n",
    "<details>\n",
    "<summary>Solution</summary>\n",
    "The output is 6 because the function executes after we have reassigned a new list to x.\n",
    "</details>"
   ]
  },
  {
   "cell_type": "markdown",
   "id": "fb93c760-ea59-4ad8-a708-bbee008a628f",
   "metadata": {},
   "source": [
    "### Question\n",
    "\n",
    " What is the output of the following program?\n",
    " \n",
    "```python\n",
    "x = 10\n",
    "def f():\n",
    "    x = 5\n",
    "\n",
    "f()\n",
    "print(x)\n",
    "```\n",
    "\n",
    "<details>\n",
    "<summary>Solution</summary>\n",
    "The output is 10. The assignment to x within the function definition does not affect the global variable.  Assignments within functions generally create local variables instead of altering any global variables.\n",
    "</details>"
   ]
  },
  {
   "cell_type": "markdown",
   "id": "9939c323-6f77-4597-a6b0-896e7f68516d",
   "metadata": {},
   "source": [
    "### Question\n",
    "\n",
    "What is the output of the following program?\n",
    " \n",
    "```python\n",
    "def z():\n",
    "    q()\n",
    "    print('z')\n",
    "def q():\n",
    "    print('q')\n",
    "def m():\n",
    "    print('m')\n",
    "    z()\n",
    "m()\n",
    "```\n",
    "\n",
    "<details>\n",
    "<summary>Solution</summary>\n",
    "     The output is:\n",
    "<pre>\n",
    "m\n",
    "q\n",
    "z\n",
    "</pre>\n",
    "     because the main program calls m(), which prints \"m\" and calls z(), which calls q() THEN prints \"z\". Function q() just prints \"q\" and returns.\n",
    "</details>"
   ]
  }
 ],
 "metadata": {
  "kernelspec": {
   "display_name": "Python 3 (ipykernel)",
   "language": "python",
   "name": "python3"
  },
  "language_info": {
   "codemirror_mode": {
    "name": "ipython",
    "version": 3
   },
   "file_extension": ".py",
   "mimetype": "text/x-python",
   "name": "python",
   "nbconvert_exporter": "python",
   "pygments_lexer": "ipython3",
   "version": "3.11.8"
  }
 },
 "nbformat": 4,
 "nbformat_minor": 5
}
