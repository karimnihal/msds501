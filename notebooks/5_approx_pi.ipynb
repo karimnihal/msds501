{
 "cells": [
  {
   "cell_type": "markdown",
   "id": "4cd86a9a-949f-4ccf-8639-e0c42e11cd09",
   "metadata": {},
   "source": [
    "## Aproximating $\\pi$"
   ]
  },
  {
   "cell_type": "markdown",
   "id": "aff73742-6af9-4a66-b10b-10913eac5261",
   "metadata": {},
   "source": [
    "The goal of this lab is to create a Python function that approximates the value of $\\pi$ using an iterative algorithm and Newton's method."
   ]
  },
  {
   "cell_type": "markdown",
   "id": "445210a5-0057-4b87-90ee-31fd38c53370",
   "metadata": {},
   "source": [
    "Note first that $sin(\\pi) = 0$ so by using Newton's method we get:\n",
    "\n",
    "$$x_{n+1} = x_{n} - \\frac{f(x_{n})}{f^{\\prime}(x_{n})} =x_{n} - \\frac{sin(x_{n})}{cos(x_{n})} $$\n",
    "\n",
    "Since $cos$ is the drivative of $sin$."
   ]
  },
  {
   "cell_type": "code",
   "execution_count": 20,
   "id": "ab018890-d546-42c8-b3ee-143c13cc99d8",
   "metadata": {},
   "outputs": [],
   "source": [
    "import numpy as np\n",
    "import math"
   ]
  },
  {
   "cell_type": "code",
   "execution_count": 22,
   "id": "31db7989-5251-41c9-9b3e-3c62c9ce2654",
   "metadata": {},
   "outputs": [
    {
     "data": {
      "text/plain": [
       "(0.0, 1.0)"
      ]
     },
     "execution_count": 22,
     "metadata": {},
     "output_type": "execute_result"
    }
   ],
   "source": [
    "math.sin(0), math.cos(0)"
   ]
  },
  {
   "cell_type": "code",
   "execution_count": 23,
   "id": "d48075d0-9ccd-4e43-826a-ba092f811d86",
   "metadata": {},
   "outputs": [],
   "source": [
    "def estimate_pi(epsilon=1e-6):\n",
    "    x = 3 # pi is between 3 and 4\n",
    "    ## Your code here"
   ]
  },
  {
   "cell_type": "code",
   "execution_count": 24,
   "id": "217dbe89-1bb7-4ba7-840d-2843d52f23e4",
   "metadata": {},
   "outputs": [
    {
     "data": {
      "text/plain": [
       "3.141592653589793"
      ]
     },
     "execution_count": 24,
     "metadata": {},
     "output_type": "execute_result"
    }
   ],
   "source": [
    "estimate_pi()"
   ]
  },
  {
   "cell_type": "code",
   "execution_count": null,
   "id": "eb6c1dbb-ed41-4082-8e62-d41d426f70d7",
   "metadata": {},
   "outputs": [],
   "source": []
  }
 ],
 "metadata": {
  "kernelspec": {
   "display_name": "Python 3 (ipykernel)",
   "language": "python",
   "name": "python3"
  },
  "language_info": {
   "codemirror_mode": {
    "name": "ipython",
    "version": 3
   },
   "file_extension": ".py",
   "mimetype": "text/x-python",
   "name": "python",
   "nbconvert_exporter": "python",
   "pygments_lexer": "ipython3",
   "version": "3.11.8"
  }
 },
 "nbformat": 4,
 "nbformat_minor": 5
}
