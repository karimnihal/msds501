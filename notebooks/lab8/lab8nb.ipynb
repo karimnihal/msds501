{
 "cells": [
  {
   "cell_type": "markdown",
   "metadata": {},
   "source": [
    "Given a positive integer array nums and an integer k. We need to find the length of the longest subarray that has a sum less than or equal to k. \n",
    "\n",
    "nums = [3, 2, 1, 3, 1, 1] \n",
    "\n",
    "k = 5\n",
    "\n",
    "Task 1:\n",
    "\n",
    "Write the Naive solution: Consider all possible subarrays using a nested loop. Return the one with sum <= k and largest length."
   ]
  },
  {
   "cell_type": "code",
   "execution_count": 8,
   "metadata": {},
   "outputs": [],
   "source": [
    "def length_subarray(nums, k):\n",
    "    result = 0\n",
    "    for start in range(len(nums)):\n",
    "        sum = 0\n",
    "        for end in range(start, len(nums)):\n",
    "            sum += nums[end]\n",
    "            if sum <= k:\n",
    "                result = max(result, end - start + 1)\n",
    "    return result"
   ]
  },
  {
   "cell_type": "code",
   "execution_count": 9,
   "metadata": {},
   "outputs": [
    {
     "name": "stdout",
     "output_type": "stream",
     "text": [
      "3\n"
     ]
    }
   ],
   "source": [
    "nums = [3, 2, 1, 3, 1, 1]\n",
    "k = 5\n",
    "result = length_subarray(nums, k)\n",
    "print(result)"
   ]
  },
  {
   "cell_type": "markdown",
   "metadata": {},
   "source": [
    "Task 2: (Optional)\n",
    "\n",
    "Without looking at my code, try to write the sliding window solution"
   ]
  },
  {
   "cell_type": "code",
   "execution_count": 24,
   "metadata": {},
   "outputs": [],
   "source": [
    "def length_subarray_win(nums, k):\n",
    "    result = 0\n",
    "    sum = 0\n",
    "    left_index = 0\n",
    "    \n",
    "    for right_index in range(len(nums)):\n",
    "        sum += nums[right_index]\n",
    "        \n",
    "        while sum > k:\n",
    "            sum -= nums[left_index]\n",
    "            left_index += 1\n",
    "        result = max(result, right_index - left_index + 1)\n",
    "    \n",
    "    return result"
   ]
  },
  {
   "cell_type": "code",
   "execution_count": 25,
   "metadata": {},
   "outputs": [
    {
     "name": "stdout",
     "output_type": "stream",
     "text": [
      "3\n"
     ]
    }
   ],
   "source": [
    "nums = [3, 2, 1, 3, 1, 1]\n",
    "k = 5\n",
    "result_win = length_subarray_win(nums, k)\n",
    "print(result_win)"
   ]
  },
  {
   "cell_type": "markdown",
   "metadata": {},
   "source": [
    "Given two strings s and t, return true if s is a subsequence of t, or false otherwise.\n",
    "A subsequence of a string is a sequence of characters that can be obtained by deleting some of the characters from the original string, while maintaining the relative order of the remaining characters. For example, \"ace\" is a subsequence of \"abcde\" while \"aec\" is not."
   ]
  },
  {
   "cell_type": "code",
   "execution_count": 18,
   "metadata": {},
   "outputs": [],
   "source": [
    "def subsequence(t, s):\n",
    "    result_bool = False\n",
    "    pt2 = 0\n",
    "    for pt1 in range(len(t)):\n",
    "        if t[pt1] == s[pt2]:\n",
    "            pt2 += 1\n",
    "            if pt2 == (len(s)):\n",
    "                return True\n",
    "    return False"
   ]
  },
  {
   "cell_type": "code",
   "execution_count": 19,
   "metadata": {},
   "outputs": [
    {
     "name": "stdout",
     "output_type": "stream",
     "text": [
      "True\n",
      "False\n"
     ]
    }
   ],
   "source": [
    "t = \"abcde\"\n",
    "s1 = \"ace\"\n",
    "s2 = \"aec\"\n",
    "\n",
    "print(subsequence(t, s1))\n",
    "print(subsequence(t, s2))"
   ]
  },
  {
   "cell_type": "code",
   "execution_count": null,
   "metadata": {},
   "outputs": [],
   "source": []
  }
 ],
 "metadata": {
  "kernelspec": {
   "display_name": "base",
   "language": "python",
   "name": "python3"
  },
  "language_info": {
   "codemirror_mode": {
    "name": "ipython",
    "version": 3
   },
   "file_extension": ".py",
   "mimetype": "text/x-python",
   "name": "python",
   "nbconvert_exporter": "python",
   "pygments_lexer": "ipython3",
   "version": "3.12.4"
  }
 },
 "nbformat": 4,
 "nbformat_minor": 2
}
