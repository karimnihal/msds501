{
 "cells": [
  {
   "cell_type": "markdown",
   "metadata": {},
   "source": [
    "You are given a string s consisting of lowercase letters. Write a function to determine the number of times a specific letter target appears in the string s.\n",
    "\n",
    "Input: s = \"hello world\", target = 'l' Output: 3\n",
    "\n",
    "Input: s = \"openai is\", target = 'i' Output: 2 \n",
    "\n",
    "Input: s = \"python programming\", target = 'p' Output: 2\n",
    "\n",
    "\n",
    "Upload your code."
   ]
  },
  {
   "cell_type": "code",
   "execution_count": 2,
   "metadata": {},
   "outputs": [],
   "source": [
    "def letter_freq(s, target):\n",
    "    count = 0\n",
    "    for x in range(len(s)):\n",
    "        if s[x] == target:\n",
    "            count += 1\n",
    "    return count"
   ]
  },
  {
   "cell_type": "code",
   "execution_count": 4,
   "metadata": {},
   "outputs": [
    {
     "name": "stdout",
     "output_type": "stream",
     "text": [
      "3\n",
      "2\n",
      "2\n"
     ]
    }
   ],
   "source": [
    "print(letter_freq(\"hello world\", 'l'))\n",
    "\n",
    "print(letter_freq(\"openai is\",'i'))\n",
    "\n",
    "print(letter_freq(\"python programming\", 'p'))"
   ]
  }
 ],
 "metadata": {
  "kernelspec": {
   "display_name": "base",
   "language": "python",
   "name": "python3"
  },
  "language_info": {
   "codemirror_mode": {
    "name": "ipython",
    "version": 3
   },
   "file_extension": ".py",
   "mimetype": "text/x-python",
   "name": "python",
   "nbconvert_exporter": "python",
   "pygments_lexer": "ipython3",
   "version": "3.12.4"
  }
 },
 "nbformat": 4,
 "nbformat_minor": 2
}
