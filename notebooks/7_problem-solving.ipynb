{
 "cells": [
  {
   "cell_type": "markdown",
   "id": "92cc0f85",
   "metadata": {},
   "source": [
    "# Problem-solving notebook"
   ]
  },
  {
   "cell_type": "markdown",
   "id": "f3718c21",
   "metadata": {},
   "source": [
    "## Problem: combinations of first and last names\n",
    "\n",
    "Given the provided list of first and last names, we aim to generate all possible combinations of first and last names."
   ]
  },
  {
   "cell_type": "code",
   "execution_count": 1,
   "id": "a6423f72",
   "metadata": {},
   "outputs": [],
   "source": [
    "first=['Xue', 'Mary', 'Robert']\n",
    "last=['Li', 'Smith', 'Dixon']"
   ]
  },
  {
   "cell_type": "markdown",
   "id": "134e2df5",
   "metadata": {},
   "source": [
    "The first step is to **understand** the problem, so let's figure out what the output looks like:\n",
    "\n",
    "```\n",
    "Xue Li\n",
    "Xue Smith\n",
    "Xue Dixon\n",
    "Mary Li\n",
    "Mary Smith\n",
    "Mary Dixon\n",
    "Robert Li\n",
    "Robert Smith\n",
    "Robert Dixon\n",
    "```\n",
    "\n",
    "To effectively tackle this problem, it's crucial to consider potential edge cases, such as empty lists. For the purpose of this exercise, let's proceed under the assumption that we have a clear understanding of the problem requirements.\n",
    "\n",
    "The next step involves devising a manual solution before transitioning to coding. It's beneficial to visualize the process of combining the elements, often by imagining the movement of pointers or data. In this case, we can think of placing a finger on each list and systematically iterating through all possible combinations.\n",
    "\n",
    "When encountering tasks that involve generating all combinations, the concept of nested loops is fundamental. The act of traversing through each list is inherently tied to the iterative nature of loops.\n",
    "\n",
    "### Exercise\n",
    "\n",
    "Write out a loop implementation and a list comprehension implementation.\n",
    "\n",
    "<details>\n",
    "<summary>Solution</summary>\n",
    "<pre>\n",
    "for f in first:\n",
    "    for l in last:\n",
    "        print(f+' '+l)\n",
    "</pre>\n",
    "    OR<br>\n",
    "<pre>\n",
    "[f+' '+l for f in first for l in last]\n",
    "</pre>\n",
    "</details>"
   ]
  },
  {
   "cell_type": "markdown",
   "id": "cade39c2",
   "metadata": {},
   "source": [
    "## Problem: checking for valid parentheses\n",
    "\n",
    "Let's try to solve a problem from leetcode.com called\n",
    "[Valid Parentheses](https://leetcode.com/problems/valid-parentheses/).  That website has lots and lots of sample problems to solve and will help you get better at programming, and is very useful when you  start practicing for interviews.  The problem description is (taken verbatim from the site):\n",
    "\n",
    "*Given a string s containing just the characters '(', ')', '{', '}', '[' and ']', determine if the input string is valid.*\n",
    "\n",
    "*An input string is valid if:*\n",
    "\n",
    "1. *Open brackets must be closed by the same type of brackets.*\n",
    "2. *Open brackets must be closed in the correct order.*\n",
    "\n",
    "Per our process, we have to understand the problem and my first question involves the set of valid characters. Looking more closely at the problem description, I see that only `()[]{}` characters are allowed.\n",
    "\n",
    "### Exercise\n",
    "\n",
    "Come up with a bunch of examples that illustrate the goal of this problem.\n",
    "\n",
    "<details>\n",
    "<summary>Solution</summary>\n",
    "<table>\n",
    "    <tr>\n",
    "        <th>Input</th><th>Valid</th>\n",
    "    </tr>\n",
    "    <tr><td>()</td><td>true</td></tr>\n",
    "    <tr><td>[]</td><td>true</td></tr>\n",
    "    <tr><td>{}</td><td>true</td></tr>\n",
    "    <tr><td>()[]</td><td>true</td></tr>\n",
    "    <tr><td>([])</td><td>true</td></tr>\n",
    "    <tr><td>{({})}</td><td>true</td></tr>\n",
    "    <tr><td>{)</td><td>false</td></tr>\n",
    "    <tr><td>{})</td><td>false</td></tr>\n",
    "    <tr><td>{()</td><td>false</td></tr>\n",
    "    <tr><td>(</td><td>false</td></tr>\n",
    "    </table>\n",
    "</details>\n",
    "\n",
    "<br>\n",
    "If I tried to solve this manually, I would move my finger down the list of characters and perform an operation that made sure that closing symbols come in the right order and that all groupings are closed at the end."
   ]
  },
  {
   "cell_type": "markdown",
   "id": "a2ad0851",
   "metadata": {},
   "source": [
    "#### First attempt\n",
    "\n",
    "My first thought was to increment and decrement a count for each kind of grouping:"
   ]
  },
  {
   "cell_type": "code",
   "execution_count": 2,
   "id": "1b3f661e",
   "metadata": {},
   "outputs": [
    {
     "data": {
      "text/plain": [
       "{'(': 0, '[': 0, '{': 0}"
      ]
     },
     "execution_count": 2,
     "metadata": {},
     "output_type": "execute_result"
    }
   ],
   "source": [
    "{'(':0,'[':0,'{':0}  # a first attempt at tracking"
   ]
  },
  {
   "cell_type": "markdown",
   "id": "039ded48",
   "metadata": {},
   "source": [
    "As I encountered an opening symbol, I would bump that count. As I encountered a closing symbol, I would decrement that count. After walking through the entire string, the counts should all be zero indicating nothing is still open. \n",
    "\n",
    "**Q**: This doesn't work. Why not?"
   ]
  },
  {
   "cell_type": "markdown",
   "id": "2085790c",
   "metadata": {},
   "source": [
    "Well, let's see what happens with a bad example: `([)`. When we get to the `)`, the counts are"
   ]
  },
  {
   "cell_type": "code",
   "execution_count": 3,
   "id": "203dcd4e",
   "metadata": {},
   "outputs": [
    {
     "data": {
      "text/plain": [
       "{'(': 1, '[': 1, '{': 0}"
      ]
     },
     "execution_count": 3,
     "metadata": {},
     "output_type": "execute_result"
    }
   ],
   "source": [
    "{'(':1,'[':1,'{':0}  # a first attempt at tracking"
   ]
  },
  {
   "cell_type": "markdown",
   "id": "ce67901e",
   "metadata": {},
   "source": [
    "We need to drop the count of the `)` but how do we know that it is in the right order? We don't. "
   ]
  },
  {
   "cell_type": "markdown",
   "id": "6d951ce9",
   "metadata": {},
   "source": [
    "#### The right approach\n",
    "\n",
    "It's not just the character count that matters, but the **sequence** of open and closes. When we see a close character, the most recent opening character must be the associated grouping symbol. Because these groupings can be nested, it complicates matters. We need a way to track the opening characters we've seen before and in their order of appearance.  Since I know that the solution requires a [stack data structure](https://docs.python.org/3/tutorial/datastructures.html#using-lists-as-stacks) for tracking symbols, I'm going to draw it as such:\n",
    "\n",
    "<img src=\"images/stack-parens.png\" width=\"120\"/>\n",
    "\n",
    "At this point, we see the first closing symbol and so we compare the closing symbol with the top of the stack to see if it's the most recently opened grouping. It is, so we pop off the `(` from the stack and move to the next character with our finger.\n",
    "\n",
    "Take a look at the situation when our finger moves to the `}`. We can see that there is a clear mismatch between the closing character under the finger and what we are expecting, thanks to the stack of open grouping symbols.\n",
    " \n",
    "<img src=\"images/stack-parens-2.png\" width=\"120\"/>\n",
    "\n",
    "Now that we have a working process, we can think about actually implementing it.  I will play around with some code to make sure I can make it work and then worry about putting it into a nice function. This is a typical workflow for programmers. Explore then cleanup."
   ]
  },
  {
   "cell_type": "code",
   "execution_count": 4,
   "id": "f4db49c0",
   "metadata": {},
   "outputs": [
    {
     "name": "stdout",
     "output_type": "stream",
     "text": [
      "mismatched '}' doesn't match '['; symbols={\n",
      "mismatched ']' doesn't match '{'; symbols=\n"
     ]
    }
   ],
   "source": [
    "symbols = [] # our stack of symbols\n",
    "openers = {')':'(', ']':'[', '}':'{'}\n",
    "s = \"{[()}]\"\n",
    "for c in s:\n",
    "    if c in \"([{\":\n",
    "        symbols.append(c)\n",
    "    else: # verify we have the right opening symbol\n",
    "        if len(symbols)==0:\n",
    "            print(f\"Char '{c}' doesn't have an opening char; symbols={','.join(symbols)}\")\n",
    "            continue\n",
    "        opener = symbols.pop()\n",
    "        if openers[c] != opener:\n",
    "            print(f\"mismatched '{c}' doesn't match '{opener}'; symbols={','.join(symbols)}\")\n",
    "if len(symbols)>0:\n",
    "    print(f\"Unclosed groupings: {symbols}\")"
   ]
  },
  {
   "cell_type": "markdown",
   "id": "78d12201",
   "metadata": {},
   "source": [
    "After trying various input strings, I added a number of messages to catch errors. "
   ]
  },
  {
   "cell_type": "markdown",
   "id": "e6a1284f",
   "metadata": {},
   "source": [
    "### Exercise\n",
    "\n",
    "Create a clean function called `isValid` that takes a string argument and returns True or False as to whether the groupings are balanced.\n",
    "\n",
    "<details>\n",
    "<summary>Solution</summary>\n",
    "<pre>\n",
    "def isValid(s: str) -> bool:\n",
    "    symbols = [] # our stack of symbols\n",
    "    openers = {')':'(', ']':'[', '}':'{'}\n",
    "    for c in s:\n",
    "        if c in \"([{\":\n",
    "            symbols.append(c)\n",
    "        else: # verify we have the right opening symbol\n",
    "            if len(symbols)==0:\n",
    "                return False\n",
    "            opener = symbols.pop()\n",
    "            if openers[c] != opener:\n",
    "                return False\n",
    "    if len(symbols)>0:\n",
    "        return False\n",
    "    return True\n",
    "</pre>\n",
    "</details>"
   ]
  },
  {
   "cell_type": "markdown",
   "id": "cb0c3621",
   "metadata": {},
   "source": [
    "### Exercise\n",
    "\n",
    "We have to try the function out with a bunch of test cases to make sure it works, including some edge cases. Write out a few test cases, both valid and invalid. Run them with your function.\n",
    "\n",
    "<details>\n",
    "<summary>Solution</summary>\n",
    "<pre>\n",
    "isValid('')\n",
    "isValid('()')\n",
    "isValid('{()')\n",
    "isValid('(]')\n",
    "isValid('{[()]}')\n",
    "isValid('()[]{}')\n",
    "isValid('(')\n",
    "</pre>\n",
    "</details>"
   ]
  },
  {
   "cell_type": "markdown",
   "id": "33481157",
   "metadata": {},
   "source": [
    "Submitting to leetcode indicates that the runtime is faster than 85% of submitted solutions."
   ]
  },
  {
   "cell_type": "markdown",
   "id": "8822d8d8",
   "metadata": {},
   "source": [
    "## Problem: determining which ad to show on a website\n",
    "\n",
    "Imagine you work for a company that has a website and you'd like to be able to show ads on the various webpages on the website.  Customers that want to purchase ads buy a certain fraction of the ad \"impressions\" (ads that appear when someone looks at a page).  For example, company X might buy 30%, company Y 60%, and company Z 10% of the ad space. Your job is to randomly show the company's ads, but in the correct proportions.\n",
    "\n",
    "To solve this problem, it helps to visualize the relationship between the companies; we might draw a bar chart on paper that looks like this:"
   ]
  },
  {
   "cell_type": "code",
   "execution_count": 5,
   "id": "56b136e4",
   "metadata": {},
   "outputs": [],
   "source": [
    "import matplotlib.pyplot as plt\n",
    "%config InlineBackend.figure_format = 'retina'  # gets sharper images"
   ]
  },
  {
   "cell_type": "code",
   "execution_count": 6,
   "id": "bf4b2345",
   "metadata": {},
   "outputs": [
    {
     "data": {
      "image/png": "[encoded data removed]",
      "text/plain": [
       "<Figure size 200x200 with 1 Axes>"
      ]
     },
     "metadata": {
      "image/png": {
       "height": 217,
       "width": 221
      }
     },
     "output_type": "display_data"
    }
   ],
   "source": [
    "plt.figure(figsize=(2,2))\n",
    "plt.bar([\"X\",\"Y\",\"Z\"],[30,60,10])\n",
    "plt.xlabel(\"Company\")\n",
    "plt.ylabel(\"Ad percentage\")\n",
    "plt.show()"
   ]
  },
  {
   "cell_type": "markdown",
   "id": "7bf5dd54",
   "metadata": {},
   "source": [
    "We need to roll some random computer dice with three sides that are biased in this way. Another way to look at this as throwing darts at the histogram on a wall and having most of the darts end up in the Y column, 30% in the X column, etc... Without altering gravity, that's hard to do. An easier way is to stretch things out so that the width of each company's region is proportional to its percentage, which then flattens out the heights of the bars:\n",
    "\n",
    "<!-- this doesn't work for some reason\n",
    "<img src=\"images/ads-regions.png\" width=\"200\">\n",
    "-->"
   ]
  },
  {
   "cell_type": "code",
   "execution_count": 8,
   "id": "663696a7",
   "metadata": {},
   "outputs": [
    {
     "data": {
      "image/png": "[encoded data removed]",
      "text/plain": [
       "<IPython.core.display.Image object>"
      ]
     },
     "execution_count": 8,
     "metadata": {
      "image/png": {
       "width": 300
      }
     },
     "output_type": "execute_result"
    }
   ],
   "source": [
    "from IPython.display import Image\n",
    "Image(filename='images/ads-regions.png', width=300)"
   ]
  },
  {
   "cell_type": "markdown",
   "id": "002434cf",
   "metadata": {},
   "source": [
    "If we throw darts at this overall region, X will get 30%, Y will get 60%, and Z will get 10%. \n",
    "\n",
    "So this tells us an approach: pick a uniform random number and figure out which region it falls in and report that company's ad.\n",
    "\n",
    "Now we know how to solve it; let's code it up. Obviously we have some research to do because we need to figure out how to get a random number. There are a number of ways, but let's use numpy:"
   ]
  },
  {
   "cell_type": "code",
   "execution_count": 9,
   "id": "07c151da",
   "metadata": {},
   "outputs": [
    {
     "data": {
      "text/plain": [
       "(0.18900063907996967, 0.0555163220726993, 0.11502831638063171)"
      ]
     },
     "execution_count": 9,
     "metadata": {},
     "output_type": "execute_result"
    }
   ],
   "source": [
    "import numpy as np\n",
    "\n",
    "np.random.random(), np.random.random(), np.random.random()"
   ]
  },
  {
   "cell_type": "markdown",
   "id": "9ef08cdb",
   "metadata": {},
   "source": [
    "### Exercise\n",
    "\n",
    "Write a function called `select` that accepts a list of company names and returns a randomly-selected company name with every call. To keep things simple, let's do it for the fixed three companies we've been talking about.  Running \n",
    "\n",
    "```python\n",
    "ads = [select(companies=[\"X\",\"Y\",\"Z\"]) for i in range(1000)]\n",
    "ads[:15]\n",
    "```\n",
    "\n",
    "Should give you something like\n",
    "\n",
    "```\n",
    "['Z', 'Y', 'Y', 'Z', 'X', 'Y', 'Y', 'X', 'X', 'X', 'Y', 'Z', 'Y', 'X', 'Y']\n",
    "```\n",
    "\n",
    "<details>\n",
    "<summary>Solution</summary>\n",
    "<pre>\n",
    "def select(companies):\n",
    "    i = np.random.random() # throw a dart\n",
    "    if i>=0 and i&lt;.30:\n",
    "        return companies[0]\n",
    "    if i>=.30 and i&lt;.90:\n",
    "        return companies[1]\n",
    "    return companies[2]\n",
    "</pre>\n",
    "</details>\n"
   ]
  },
  {
   "cell_type": "markdown",
   "id": "b91554d4",
   "metadata": {},
   "source": [
    "### Exercise\n",
    "\n",
    "As part of our problem-solving strategy, we also need to verify things, so please create do a histogram to verify the percentages look right. The output should look something like:"
   ]
  },
  {
   "cell_type": "code",
   "execution_count": 10,
   "id": "262cff5a",
   "metadata": {},
   "outputs": [
    {
     "data": {
      "image/png": "[encoded data removed]",
      "text/plain": [
       "<IPython.core.display.Image object>"
      ]
     },
     "execution_count": 10,
     "metadata": {
      "image/png": {
       "width": 200
      }
     },
     "output_type": "execute_result"
    }
   ],
   "source": [
    "# WHY THE HELL DOESN'T THIS WORK:\n",
    "# <img src=\"images/ads-histo.tiff\" width=\"200\">\n",
    "from IPython.display import Image\n",
    "Image(filename='images/ads-histo.png', width=200)"
   ]
  },
  {
   "cell_type": "markdown",
   "id": "a83ec110",
   "metadata": {},
   "source": [
    "<details>\n",
    "<summary>Solution</summary>\n",
    "<pre>\n",
    "plt.figure(figsize=(2,2))\n",
    "plt.hist(ads)\n",
    "plt.xlabel(\"Company\")\n",
    "plt.ylabel(\"Ad percentage\")\n",
    "plt.show()\n",
    "</pre>\n",
    "</details>"
   ]
  },
  {
   "cell_type": "markdown",
   "id": "7fbee4dd",
   "metadata": {},
   "source": [
    "## Problem: computing histograms\n",
    "\n",
    "In the previous exercise, we used the histogram functionality of the plotting library to compute the number of X, Y, and Z company values in the `ads` list. Now, let's figure out a way to efficiently keep a count for the company names in the list, without relying on built-in functionality.  To make it more interesting, we're opening up to more than just the three companies."
   ]
  },
  {
   "cell_type": "code",
   "execution_count": 11,
   "id": "390a531d",
   "metadata": {},
   "outputs": [],
   "source": [
    "import numpy as np\n",
    "companies=[\"Google\",\"Apple\",\"FaceBook\",\"HP\",\"SAP\"]\n",
    "n = len(companies)"
   ]
  },
  {
   "cell_type": "markdown",
   "id": "bf8a4aec",
   "metadata": {},
   "source": [
    "### Subproblem: arrays as indexes into numpy arrays\n",
    "\n",
    "As a subexercise, how would we get a uniform random sample of 5000 company names from this list? To get you familiar with the vector-based approach of numpy, let's ask for a list of integer indexes into the companies list of size 5000. The index values should be integers and in the range `[0,n)`:"
   ]
  },
  {
   "cell_type": "code",
   "execution_count": 12,
   "id": "0db7dfd4",
   "metadata": {},
   "outputs": [
    {
     "data": {
      "text/plain": [
       "array([3, 3, 4, 0, 4, 3, 4, 3, 3, 3, 2, 4, 3, 3, 4, 0, 0, 4, 4, 3, 3, 4,\n",
       "       0, 1, 0, 3, 1, 4, 1, 4, 2, 4, 4, 4, 0, 0, 0, 4, 1, 0, 1, 3, 4, 0,\n",
       "       4, 2, 2, 3, 3, 3])"
      ]
     },
     "execution_count": 12,
     "metadata": {},
     "output_type": "execute_result"
    }
   ],
   "source": [
    "idxs = np.random.randint(low=0,high=n,size=5000)\n",
    "idxs[0:50]"
   ]
  },
  {
   "cell_type": "markdown",
   "id": "856dd719",
   "metadata": {},
   "source": [
    "Let's also convert the list of companies to a numpy array, which then allows us to use a list of integers as an index:"
   ]
  },
  {
   "cell_type": "code",
   "execution_count": 13,
   "id": "f55fded7",
   "metadata": {},
   "outputs": [
    {
     "data": {
      "text/plain": [
       "array(['HP', 'HP', 'SAP', 'Google', 'SAP', 'HP', 'SAP', 'HP', 'HP', 'HP',\n",
       "       'FaceBook', 'SAP', 'HP', 'HP', 'SAP'], dtype='<U8')"
      ]
     },
     "execution_count": 13,
     "metadata": {},
     "output_type": "execute_result"
    }
   ],
   "source": [
    "companies = np.array(companies)\n",
    "names = companies[idxs]\n",
    "names[0:15]"
   ]
  },
  {
   "cell_type": "markdown",
   "id": "55080f09",
   "metadata": {},
   "source": [
    "We could also do this with a list comprehension in pure Python, but it's a good idea to get familiar with numpy."
   ]
  },
  {
   "cell_type": "markdown",
   "id": "cd2374d5",
   "metadata": {},
   "source": [
    "### Counting occurrences\n",
    "\n",
    "Ok, now we have a list of companies and would like to count the number of occurrences of each. If we wanted to use numpy, we could do the following:"
   ]
  },
  {
   "cell_type": "code",
   "execution_count": 14,
   "id": "f3d18032",
   "metadata": {},
   "outputs": [
    {
     "data": {
      "text/plain": [
       "(array(['Apple', 'FaceBook', 'Google', 'HP', 'SAP'], dtype='<U8'),\n",
       " array([ 976, 1012,  997,  995, 1020]))"
      ]
     },
     "execution_count": 14,
     "metadata": {},
     "output_type": "execute_result"
    }
   ],
   "source": [
    "np.unique(names, return_counts=True)"
   ]
  },
  {
   "cell_type": "markdown",
   "id": "ba57611f",
   "metadata": {},
   "source": [
    "Instead, we want to implement this ourselves.   We are given a list of company names with multiple occurrences of each.  To solve this, we don't think about code and think about how we would do this by hand. The first thing I would do is to create a table with a company name and a count to the right, something like this:"
   ]
  },
  {
   "cell_type": "code",
   "execution_count": 16,
   "id": "de7b90c3",
   "metadata": {},
   "outputs": [
    {
     "data": {
      "text/plain": [
       "{'Google': 0, 'Apple': 0, 'FaceBook': 0, 'HP': 0, 'SAP': 0}"
      ]
     },
     "execution_count": 16,
     "metadata": {},
     "output_type": "execute_result"
    }
   ],
   "source": [
    "{c:0 for c in companies}"
   ]
  },
  {
   "cell_type": "markdown",
   "id": "e004ad2b",
   "metadata": {},
   "source": [
    "Then, I would move my finger down the list of company names and bump the count in my table for the company pointed to by my finger:\n",
    "\n",
    "<img src=\"images/companies.png\" width=\"400\">\n",
    "\n",
    "After walking the companies, we'd see something like:\n",
    "\n",
    "<img src=\"images/count-companies.png\" width=\"130\">\n",
    "\n",
    "We would expect the numbers to be roughly the same, which they are. If we increase the sample size to 10,000, the counts would be even closer."
   ]
  },
  {
   "cell_type": "markdown",
   "id": "badcd4fb",
   "metadata": {},
   "source": [
    "### Exercise\n",
    "\n",
    "That sounds like a good approach and therefore we can code this up.  Every time I think of moving my finger down a list, I think of a `for`-loop of some kind.   When I think of a table mapping company name to account, I think of a dictionary.\n",
    "\n",
    "<details>\n",
    "<summary>Solution</summary>\n",
    "<pre>\n",
    "counts = {c:0 for c in companies}\n",
    "for name in names:\n",
    "    counts[name] += 1\n",
    "</pre>\n",
    "</details>"
   ]
  },
  {
   "cell_type": "code",
   "execution_count": 11,
   "id": "82d57e2c",
   "metadata": {},
   "outputs": [
    {
     "data": {
      "text/plain": [
       "defaultdict(int,\n",
       "            {'HP': 984,\n",
       "             'Apple': 978,\n",
       "             'SAP': 1007,\n",
       "             'FaceBook': 1018,\n",
       "             'Google': 1013})"
      ]
     },
     "execution_count": 11,
     "metadata": {},
     "output_type": "execute_result"
    }
   ],
   "source": [
    "from collections import defaultdict\n",
    "counts = defaultdict(int)\n",
    "for name in names:\n",
    "    counts[name] = counts[name] + 1\n",
    "counts"
   ]
  },
  {
   "cell_type": "markdown",
   "id": "7d080ea1",
   "metadata": {},
   "source": [
    "## Problem: encrypting text\n",
    "\n",
    "In this exercise, let's learn a little bit about security and encryption by implementing a [cipher encryption function](https://en.wikipedia.org/wiki/Cipher). Given a string, the function must return an encrypted version and the decryption key (the key is the reverse mapping of the cipher and is needed to decrypt). The cipher is a dictionary that maps character to a new character. A cipher encryption works by replacing each character in the plaintext with a character from a key.  For example, if we have the following partial key, we'd encrypt `cat` as `nsz` and `taca` as `zsns`."
   ]
  },
  {
   "cell_type": "code",
   "execution_count": 12,
   "id": "8606d12e",
   "metadata": {},
   "outputs": [
    {
     "data": {
      "image/svg+xml": [
       "<?xml version=\"1.0\" encoding=\"UTF-8\" standalone=\"no\"?>\n",
       "<!DOCTYPE svg PUBLIC \"-//W3C//DTD SVG 1.1//EN\"\n",
       " \"http://www.w3.org/Graphics/SVG/1.1/DTD/svg11.dtd\">\n",
       "<!-- Generated by graphviz version 2.47.3 (20210619.1520)\n",
       " -->\n",
       "<!-- Title: G Pages: 1 -->\n",
       "<svg width=\"52pt\" height=\"58pt\"\n",
       " viewBox=\"0.00 0.00 52.00 58.00\" xmlns=\"http://www.w3.org/2000/svg\" xmlns:xlink=\"http://www.w3.org/1999/xlink\">\n",
       "<g id=\"graph0\" class=\"graph\" transform=\"scale(1 1) rotate(0) translate(4 54)\">\n",
       "<title>G</title>\n",
       "<polygon fill=\"white\" stroke=\"transparent\" points=\"-4,4 -4,-54 48,-54 48,4 -4,4\"/>\n",
       "<!-- node140413443533920 -->\n",
       "<g id=\"node1\" class=\"node\">\n",
       "<title>node140413443533920</title>\n",
       "<polygon fill=\"#fefecd\" stroke=\"#444443\" stroke-width=\"0.5\" points=\"44,-50 0,-50 0,0 44,0 44,-50\"/>\n",
       "<polygon fill=\"#fefecd\" stroke=\"transparent\" points=\"2,-34 2,-48 16,-48 16,-34 2,-34\"/>\n",
       "<text text-anchor=\"start\" x=\"2\" y=\"-38.2\" font-family=\"Helvetica,sans-Serif\" font-size=\"11.00\" fill=\"#444443\">&#39;a&#39; </text>\n",
       "<text text-anchor=\"start\" x=\"16\" y=\"-36.8\" font-family=\"Helvetica,sans-Serif\" font-size=\"9.00\" fill=\"#444443\">→</text>\n",
       "<polygon fill=\"#fefecd\" stroke=\"transparent\" points=\"26,-34 26,-48 42,-48 42,-34 26,-34\"/>\n",
       "<text text-anchor=\"start\" x=\"27\" y=\"-38.2\" font-family=\"Helvetica,sans-Serif\" font-size=\"11.00\" fill=\"#444443\"> &#39;s&#39;</text>\n",
       "<polygon fill=\"#fefecd\" stroke=\"transparent\" points=\"2,-32 2,-34 42,-34 42,-32 2,-32\"/>\n",
       "<polygon fill=\"#fefecd\" stroke=\"transparent\" points=\"2,-18 2,-32 16,-32 16,-18 2,-18\"/>\n",
       "<text text-anchor=\"start\" x=\"3\" y=\"-22.2\" font-family=\"Helvetica,sans-Serif\" font-size=\"11.00\" fill=\"#444443\">&#39;c&#39; </text>\n",
       "<text text-anchor=\"start\" x=\"16\" y=\"-20.8\" font-family=\"Helvetica,sans-Serif\" font-size=\"9.00\" fill=\"#444443\">→</text>\n",
       "<polygon fill=\"#fefecd\" stroke=\"transparent\" points=\"26,-18 26,-32 42,-32 42,-18 26,-18\"/>\n",
       "<text text-anchor=\"start\" x=\"27\" y=\"-22.2\" font-family=\"Helvetica,sans-Serif\" font-size=\"11.00\" fill=\"#444443\"> &#39;n&#39;</text>\n",
       "<polygon fill=\"#fefecd\" stroke=\"transparent\" points=\"2,-16 2,-18 42,-18 42,-16 2,-16\"/>\n",
       "<polygon fill=\"#fefecd\" stroke=\"transparent\" points=\"2,-2 2,-16 16,-16 16,-2 2,-2\"/>\n",
       "<text text-anchor=\"start\" x=\"5\" y=\"-6.2\" font-family=\"Helvetica,sans-Serif\" font-size=\"11.00\" fill=\"#444443\">&#39;t&#39; </text>\n",
       "<text text-anchor=\"start\" x=\"16\" y=\"-4.8\" font-family=\"Helvetica,sans-Serif\" font-size=\"9.00\" fill=\"#444443\">→</text>\n",
       "<polygon fill=\"#fefecd\" stroke=\"transparent\" points=\"26,-2 26,-16 42,-16 42,-2 26,-2\"/>\n",
       "<text text-anchor=\"start\" x=\"27\" y=\"-6.2\" font-family=\"Helvetica,sans-Serif\" font-size=\"11.00\" fill=\"#444443\"> &#39;z&#39;</text>\n",
       "</g>\n",
       "</g>\n",
       "</svg>\n"
      ],
      "text/plain": [
       "<graphviz.files.Source at 0x7fb48d742978>"
      ]
     },
     "execution_count": 12,
     "metadata": {},
     "output_type": "execute_result"
    }
   ],
   "source": [
    "objviz({'a':'s', 'c':'n', 't':'z'})"
   ]
  },
  {
   "cell_type": "markdown",
   "id": "d0850244",
   "metadata": {},
   "source": [
    "Starting the design process at the highest level, it seems like we have two steps:\n",
    " \n",
    "1. create a cipher that maps all lowercase letters to a random unique character; create the decryption key by reversing the cipher\n",
    "2. create a new string by walking the original and replacing each character with the character from the cipher\n",
    "\n",
    "Step one is nontrivial, so we need to break that process down into some smaller chunks. Work backwards: the problem is straightforward if we have a list of characters a..z and a shuffled version of a..z.  If that's the case, we can simply move a finger through the a..z and the shuffled version, combining them into a dictionary.  \n",
    "\n",
    "Working backwards further: To get a list of a..z, I happen to know we can get it easily from Python in `string.ascii_lowercase` so let's not worry about that. \n",
    "\n",
    "How do we get a shuffled version? There are a number of solutions using list comprehensions but it's easier if we use a built-in shuffling function in numpy.  Given a vector/list of elements, `np.random.shuffle()` will shuffle them  in place (meaning it will alter the list we pass in instead of creating a new one and returning it)."
   ]
  },
  {
   "cell_type": "code",
   "execution_count": 17,
   "id": "d53ac029",
   "metadata": {},
   "outputs": [
    {
     "data": {
      "text/plain": [
       "[' ',\n",
       " 'z',\n",
       " 'm',\n",
       " 'u',\n",
       " 'e',\n",
       " 'a',\n",
       " 'x',\n",
       " 'g',\n",
       " 'y',\n",
       " 'i',\n",
       " 'd',\n",
       " 't',\n",
       " 'r',\n",
       " 'n',\n",
       " 'o',\n",
       " 'v',\n",
       " 'q',\n",
       " 'w',\n",
       " 'k',\n",
       " 'b',\n",
       " 'j',\n",
       " 's',\n",
       " 'p',\n",
       " 'c',\n",
       " 'f',\n",
       " 'h',\n",
       " 'l']"
      ]
     },
     "execution_count": 17,
     "metadata": {},
     "output_type": "execute_result"
    }
   ],
   "source": [
    "import string\n",
    "import numpy as np\n",
    "\n",
    "vocab = string.ascii_lowercase + ' ' # allow spaces as well\n",
    "shuffled_chars = list(vocab)\n",
    "np.random.shuffle( shuffled_chars )\n",
    "shuffled_chars"
   ]
  },
  {
   "cell_type": "markdown",
   "id": "c328511e",
   "metadata": {},
   "source": [
    "Once we have the shuffled list, we can use `zip()` and a dictionary comprehension to glue them together. (A dictionary comprehension is the same as a list comprehension except you get a dictionary instead of a list.) The cipher would look something like:\n",
    "\n",
    "<img src=\"images/cipher.png\" width=\"50\">"
   ]
  },
  {
   "cell_type": "markdown",
   "id": "f5f2222f",
   "metadata": {},
   "source": [
    "### Exercise\n",
    "\n",
    "Please use a dictionary comprehension to get the cipher into variable `cipher`.\n",
    "\n",
    "<details>\n",
    "<summary>Solution</summary>\n",
    "<pre>\n",
    "cipher = {c:k for c,k in zip(vocab,shuffled_chars)}\n",
    "</pre>\n",
    "</details>"
   ]
  },
  {
   "cell_type": "markdown",
   "id": "ee003988",
   "metadata": {},
   "source": [
    "The decryption key is the reverse of the cipher and would look something like:\n",
    "\n",
    "<img src=\"images/decrypt.png\" width=\"60\">"
   ]
  },
  {
   "cell_type": "markdown",
   "id": "e387e1e6",
   "metadata": {},
   "source": [
    "### Exercise\n",
    "\n",
    "Walk that cipher dictionary and flip the dictionary key and value using a dict comprehension to get the decryption key and save into variable `key`.\n",
    "\n",
    "<details>\n",
    "<summary>Solution</summary>\n",
    "<pre>\n",
    "key = {v:k for k,v in cipher.items()} # flip key and value\n",
    "</pre>\n",
    "</details>"
   ]
  },
  {
   "cell_type": "markdown",
   "id": "c9c868c0",
   "metadata": {},
   "source": [
    "That completes the first step. For the second step, we have to create a new string from the original plaintext based on the cipher. "
   ]
  },
  {
   "cell_type": "markdown",
   "id": "62d83875",
   "metadata": {},
   "source": [
    "### Exercise\n",
    "\n",
    "Walk the characters in `s`, looking them up in the cipher, and adding the translated character to a new string, `e`.  The encrypted text will look like: \n",
    "`rflv kkpowulykluoxm bz n n `.\n",
    "\n",
    "```python\n",
    "s = \"my password is dogcatbanana\"\n",
    "```\n",
    "\n",
    "<details>\n",
    "<summary>Solution</summary>\n",
    "<pre>\n",
    "s = \"my password is dogcatbanana\"\n",
    "e = \"\"\n",
    "for c in s:\n",
    "    e += cipher[c]\n",
    "# same as: e = ''.join([cipher[c] for c in s])\n",
    "</pre>\n",
    "</details>"
   ]
  },
  {
   "cell_type": "markdown",
   "id": "cf70f467",
   "metadata": {},
   "source": [
    "### Exercise\n",
    "\n",
    "Write code to print the decrypted `e` so it matches the plaintext in `s`: `my password is dogcatbanana.\n",
    "\n",
    "<details>\n",
    "<summary>Solution</summary>\n",
    "<pre>\n",
    "s = ''.join([key[c] for c in e])\n",
    "print(s)\n",
    "</pre>\n",
    "</details>"
   ]
  },
  {
   "cell_type": "markdown",
   "id": "20b8221a",
   "metadata": {},
   "source": [
    "### Exercise\n",
    "\n",
    "This \"junk drawer\" code appears to work, so please create two clean functions:\n",
    "\n",
    "```python\n",
    "def encrypt(s) -> (str,dict): # returns encrypted string and decryption key dictionary\n",
    "    ...\n",
    "def decrypt(e, key) -> str:    # returns a decrypted string from encrypted string e\n",
    "    ...\n",
    "```\n",
    "\n",
    "<details>\n",
    "<summary>Solution</summary>\n",
    "<pre>\n",
    "def encrypt(s) -> (str,dict):\n",
    "    vocab = string.ascii_lowercase + ' ' # allow spaces as well\n",
    "    shuffled_chars = list(vocab)\n",
    "    np.random.shuffle( shuffled_chars )\n",
    "    cipher = {c:k for c,k in zip(vocab,shuffled_chars)}\n",
    "    key = {v:k for k,v in cipher.items()}\n",
    "    e = ''.join([cipher[c] for c in s])\n",
    "    return e, key\n",
    "\n",
    "def decrypt(e, key) -> str:\n",
    "    return ''.join([key[c] for c in e])\n",
    "</pre>\n",
    "</details>"
   ]
  },
  {
   "cell_type": "markdown",
   "id": "2334bcb4",
   "metadata": {},
   "source": [
    "Give it a try with some sample strings:"
   ]
  },
  {
   "cell_type": "code",
   "execution_count": null,
   "id": "f4a67c8b",
   "metadata": {},
   "outputs": [],
   "source": [
    "e,key = encrypt(\"hi mom\")\n",
    "decrypt(e,key)"
   ]
  },
  {
   "cell_type": "code",
   "execution_count": null,
   "id": "25b1850a",
   "metadata": {},
   "outputs": [],
   "source": [
    "e,key = encrypt(\"\")\n",
    "decrypt(e,key)"
   ]
  },
  {
   "cell_type": "code",
   "execution_count": null,
   "id": "6089e306",
   "metadata": {},
   "outputs": [],
   "source": [
    "e,key = encrypt(\"apple cat banana\")\n",
    "decrypt(e,key)"
   ]
  },
  {
   "cell_type": "markdown",
   "id": "e1e1e55f",
   "metadata": {},
   "source": [
    "Here's a cool Python syntax trick.  If you have a tuple `t`, then `*t` unpacks that into an argument list and a function call, which lets us tighten up the syntax like this:"
   ]
  },
  {
   "cell_type": "code",
   "execution_count": null,
   "id": "8dae68a1",
   "metadata": {},
   "outputs": [],
   "source": [
    "decrypt( *encrypt(\"apple cat banana\") )"
   ]
  },
  {
   "cell_type": "code",
   "execution_count": null,
   "id": "5c960a7a",
   "metadata": {},
   "outputs": [],
   "source": [
    "decrypt( *encrypt(\"i like toast\") )"
   ]
  },
  {
   "cell_type": "code",
   "execution_count": 16,
   "id": "2ae023cb",
   "metadata": {},
   "outputs": [
    {
     "name": "stdout",
     "output_type": "stream",
     "text": [
      "3 and 4\n",
      "10 and 3000\n"
     ]
    }
   ],
   "source": [
    "def f(x,y):\n",
    "    print(x, 'and', y)\n",
    "    \n",
    "f(3,4)\n",
    "a = [10,3000]\n",
    "f( *a )"
   ]
  },
  {
   "cell_type": "markdown",
   "id": "7dd2c562",
   "metadata": {},
   "source": [
    "This encryption seems great! "
   ]
  },
  {
   "cell_type": "markdown",
   "id": "8ca9692c",
   "metadata": {},
   "source": [
    "### Subproblem How could somebody guess our randomized mapping of characters?\n",
    "\n",
    "Unfortunately, these simple ciphers fall immediately to character frequency analysis, as long as we have enough characters in the sample to get an accurate picture of character frequencies. For example, in English the letter `e` has the highest frequency so we replace the character with the highest frequency in the encrypted text with `e` and so on down the frequency list.  As we go along, we look for words in English dictionary or sequences that are close to endless words.  It's like a game of Jeopardy where we try to guess a phrase given some of the characters. We can also look at most common word pairs like `th` to tease out the original plaintext. If you'd like to read a fascinating and well-written (nonacademic) book on cryptography from ancient times to modern times, check out [The Code Book](https://www.amazon.com/Code-Book-Science-Secrecy-Cryptography/dp/0385495323) by Simon Singh. "
   ]
  },
  {
   "cell_type": "markdown",
   "id": "8ad24c70",
   "metadata": {},
   "source": [
    "## Problem: Download and filter CSV data from the web\n",
    "\n",
    "As we will see in the data acquisitions class, a very common pattern is to collect some data from the web and process it in some way.  Let's get started  by downloading a CSV file from the web that contains information on [cities in various states](https://people.sc.fsu.edu/~jburkardt/data/csv/cities.csv) from the US. We could simply download that file onto our local disk, but let's do this automatically with a program. \n",
    "\n",
    "Let's say our next goal is to filter out any cities that are not in Washington state, code `WA`.   Let's finish up by saving those `WA` rows back to a text file, `/tmp/wa_cities.csv`, in CSV format. We'll avoid using pandas initially and then do it again with pandas.\n",
    "\n",
    "To get started, think about the overall sequence of steps needed to solve this problem at a high level; totally ignore the coding issues. In my mind, there are three things to do:\n",
    "\n",
    "1. Download the CSV file as a string\n",
    "2. Filter for just the `WA` states\n",
    "3. Write those rows to a new text file\n",
    "\n",
    "There are a number of details we need to flesh out for each step, but it's important to start at a high level before drilling down into the details.\n",
    "\n",
    "For step one, a quick Google search reveals that there is a package called `requests` for Python that allows us to download files easily so let's do that and take a look at what we get:"
   ]
  },
  {
   "cell_type": "code",
   "execution_count": 20,
   "id": "070e0b40",
   "metadata": {},
   "outputs": [
    {
     "name": "stdout",
     "output_type": "stream",
     "text": [
      "\"LatD\", \"LatM\", \"LatS\", \"NS\", \"LonD\", \"LonM\", \"LonS\", \"EW\", \"City\", \"State\"\n",
      "   41,    5,   59, \"N\",     80,   39,    0, \"W\", \"Youngstown\", OH\n",
      "   42,   52,   48, \"N\",     97,   23,   23, \"W\", \"Yankton\", SD\n",
      "   46,   35,   59, \"N\",    120,   30,   36, \"W\", \"Yakima\", WA\n",
      "   42,   16,   12, \"N\",     71,  \n"
     ]
    }
   ],
   "source": [
    "import requests\n",
    "r = requests.get(\"https://people.sc.fsu.edu/~jburkardt/data/csv/cities.csv\")\n",
    "contents = r.text\n",
    "print(contents[0:300])"
   ]
  },
  {
   "cell_type": "markdown",
   "id": "aa186e39",
   "metadata": {},
   "source": [
    "There are a lot of quotation marks in the data that are unnecessary and we can remove.  We did not know this detail when planning the overall process, but now we know and so let's clean up:"
   ]
  },
  {
   "cell_type": "code",
   "execution_count": 21,
   "id": "0ee4a649",
   "metadata": {},
   "outputs": [
    {
     "name": "stdout",
     "output_type": "stream",
     "text": [
      "LatD, LatM, LatS, NS, LonD, LonM, LonS, EW, City, State\n",
      "   41,    5,   59, N,     80,   39,    0, W, Youngstown, OH\n",
      "   42,   52,   48, N,     97,   23,   23, W, Yankton, SD\n",
      "   46,   35,   59, N,    120,   30,   36, W, Yakima, WA\n",
      "   42,   16,   12, N,     71,   48,    0, W, Worcester, MA\n",
      "   43,   37,\n"
     ]
    }
   ],
   "source": [
    "contents = contents.replace('\"', '')\n",
    "print(contents[0:300])"
   ]
  },
  {
   "cell_type": "markdown",
   "id": "506fcce5",
   "metadata": {},
   "source": [
    "For step two, we need to filter for just those cities in Washington state but right now all we have is a string. Let's split that string into a list of strings, with one row per string and separate out the first row as the list of columns:"
   ]
  },
  {
   "cell_type": "code",
   "execution_count": 22,
   "id": "47ef555a",
   "metadata": {},
   "outputs": [
    {
     "data": {
      "text/plain": [
       "['   41,    5,   59, N,     80,   39,    0, W, Youngstown, OH',\n",
       " '   42,   52,   48, N,     97,   23,   23, W, Yankton, SD',\n",
       " '   46,   35,   59, N,    120,   30,   36, W, Yakima, WA',\n",
       " '   42,   16,   12, N,     71,   48,    0, W, Worcester, MA',\n",
       " '   43,   37,   48, N,     89,   46,   11, W, Wisconsin Dells, WI']"
      ]
     },
     "execution_count": 22,
     "metadata": {},
     "output_type": "execute_result"
    }
   ],
   "source": [
    "lines = contents.split('\\n')\n",
    "columns = lines[0]\n",
    "lines = lines[1:]\n",
    "lines[:5]"
   ]
  },
  {
   "cell_type": "markdown",
   "id": "45c7eeeb",
   "metadata": {},
   "source": [
    "We also should remove the extra spaces after delimiters like this but leave spaces in city names like `Walla Walla`:\n",
    "\n",
    "```\n",
    "LatD,LatM,LatS,NS,LonD,LonM,LonS,EW,City,State\n",
    "41,5,59,N,80,39,0,W,Youngstown,OH\n",
    "42,52,48,N,97,23,23,W,Yankton,SD\n",
    "46,35,59,N,120,30,36,W,Yakima,WA\n",
    "42,16,12,N,71,48,0,W,Worcester,MA\n",
    "43,37,48,N,89,46,11,W,Wisconsin Dells,WI\n",
    "36,5,59,N,80,15,0,W,Winston-Salem,NC\n",
    "49,52,48,N,97,9,0,W,Winnipeg,MB\n",
    "...\n",
    "```"
   ]
  },
  {
   "cell_type": "markdown",
   "id": "f8159b68",
   "metadata": {},
   "source": [
    "I tried multiple approaches. How would you clean up so we don't have extra spaces?"
   ]
  },
  {
   "cell_type": "code",
   "execution_count": 23,
   "id": "8e59c886",
   "metadata": {},
   "outputs": [],
   "source": [
    "cleaned = []\n",
    "for line in lines:\n",
    "    row = line.split(',')\n",
    "    row = [val.strip() for val in row]\n",
    "    cleaned.append(','.join(row))\n",
    "lines = cleaned\n",
    "\n",
    "# do for header too\n",
    "columns = columns.split(',')\n",
    "columns = [name.strip() for name in columns]\n",
    "columns = ','.join(columns)"
   ]
  },
  {
   "cell_type": "markdown",
   "id": "f908614c",
   "metadata": {},
   "source": [
    "Once we have that list, we can use a list comprehension to filter the rows. Note that we don't have to split up the individual rows into fields or columns because a simple check for string `WA` in each row is sufficient:"
   ]
  },
  {
   "cell_type": "code",
   "execution_count": 24,
   "id": "102d4e7a",
   "metadata": {},
   "outputs": [
    {
     "data": {
      "text/plain": [
       "['46,35,59,N,120,30,36,W,Yakima,WA',\n",
       " '47,25,11,N,120,19,11,W,Wenatchee,WA',\n",
       " '46,4,11,N,118,19,48,W,Walla Walla,WA',\n",
       " '47,14,24,N,122,25,48,W,Tacoma,WA',\n",
       " '47,40,11,N,117,24,36,W,Spokane,WA',\n",
       " '47,35,59,N,122,19,48,W,Seattle,WA']"
      ]
     },
     "execution_count": 24,
     "metadata": {},
     "output_type": "execute_result"
    }
   ],
   "source": [
    "wa = [row for row in lines if 'WA' in row]\n",
    "wa"
   ]
  },
  {
   "cell_type": "markdown",
   "id": "f4b1037c",
   "metadata": {},
   "source": [
    "For step three, we can open up a text file as we normally do and iterate through the rows of data (starting out by writing the list of columns):"
   ]
  },
  {
   "cell_type": "code",
   "execution_count": 25,
   "id": "2f48b374",
   "metadata": {},
   "outputs": [],
   "source": [
    "with open(\"/tmp/wa_cities.csv\", \"w\") as f:\n",
    "    f.write(columns+\"\\n\")\n",
    "    for row in wa:\n",
    "        f.write(row+\"\\n\")"
   ]
  },
  {
   "cell_type": "markdown",
   "id": "c0f91c04",
   "metadata": {},
   "source": [
    "#### Pandas alternative\n",
    "\n",
    "Pandas is also network aware and so we can give it a URL instead of a file name to read in a CSV file, which it processes heavily into a table rather than a simple list of strings as we did previously"
   ]
  },
  {
   "cell_type": "code",
   "execution_count": 31,
   "id": "3815b4e0",
   "metadata": {},
   "outputs": [
    {
     "data": {
      "text/html": [
       "<div>\n",
       "<style scoped>\n",
       "    .dataframe tbody tr th:only-of-type {\n",
       "        vertical-align: middle;\n",
       "    }\n",
       "\n",
       "    .dataframe tbody tr th {\n",
       "        vertical-align: top;\n",
       "    }\n",
       "\n",
       "    .dataframe thead th {\n",
       "        text-align: right;\n",
       "    }\n",
       "</style>\n",
       "<table border=\"1\" class=\"dataframe\">\n",
       "  <thead>\n",
       "    <tr style=\"text-align: right;\">\n",
       "      <th></th>\n",
       "      <th>LatD</th>\n",
       "      <th>LatM</th>\n",
       "      <th>LatS</th>\n",
       "      <th>NS</th>\n",
       "      <th>LonD</th>\n",
       "      <th>LonM</th>\n",
       "      <th>LonS</th>\n",
       "      <th>EW</th>\n",
       "      <th>City</th>\n",
       "      <th>State</th>\n",
       "    </tr>\n",
       "  </thead>\n",
       "  <tbody>\n",
       "    <tr>\n",
       "      <th>0</th>\n",
       "      <td>41</td>\n",
       "      <td>5</td>\n",
       "      <td>59</td>\n",
       "      <td>N</td>\n",
       "      <td>80</td>\n",
       "      <td>39</td>\n",
       "      <td>0</td>\n",
       "      <td>W</td>\n",
       "      <td>Youngstown</td>\n",
       "      <td>OH</td>\n",
       "    </tr>\n",
       "    <tr>\n",
       "      <th>1</th>\n",
       "      <td>42</td>\n",
       "      <td>52</td>\n",
       "      <td>48</td>\n",
       "      <td>N</td>\n",
       "      <td>97</td>\n",
       "      <td>23</td>\n",
       "      <td>23</td>\n",
       "      <td>W</td>\n",
       "      <td>Yankton</td>\n",
       "      <td>SD</td>\n",
       "    </tr>\n",
       "    <tr>\n",
       "      <th>2</th>\n",
       "      <td>46</td>\n",
       "      <td>35</td>\n",
       "      <td>59</td>\n",
       "      <td>N</td>\n",
       "      <td>120</td>\n",
       "      <td>30</td>\n",
       "      <td>36</td>\n",
       "      <td>W</td>\n",
       "      <td>Yakima</td>\n",
       "      <td>WA</td>\n",
       "    </tr>\n",
       "    <tr>\n",
       "      <th>3</th>\n",
       "      <td>42</td>\n",
       "      <td>16</td>\n",
       "      <td>12</td>\n",
       "      <td>N</td>\n",
       "      <td>71</td>\n",
       "      <td>48</td>\n",
       "      <td>0</td>\n",
       "      <td>W</td>\n",
       "      <td>Worcester</td>\n",
       "      <td>MA</td>\n",
       "    </tr>\n",
       "    <tr>\n",
       "      <th>4</th>\n",
       "      <td>43</td>\n",
       "      <td>37</td>\n",
       "      <td>48</td>\n",
       "      <td>N</td>\n",
       "      <td>89</td>\n",
       "      <td>46</td>\n",
       "      <td>11</td>\n",
       "      <td>W</td>\n",
       "      <td>Wisconsin Dells</td>\n",
       "      <td>WI</td>\n",
       "    </tr>\n",
       "  </tbody>\n",
       "</table>\n",
       "</div>"
      ],
      "text/plain": [
       "   LatD  LatM  LatS NS  LonD  LonM  LonS EW             City State\n",
       "0    41     5    59  N    80    39     0  W       Youngstown    OH\n",
       "1    42    52    48  N    97    23    23  W          Yankton    SD\n",
       "2    46    35    59  N   120    30    36  W           Yakima    WA\n",
       "3    42    16    12  N    71    48     0  W        Worcester    MA\n",
       "4    43    37    48  N    89    46    11  W  Wisconsin Dells    WI"
      ]
     },
     "execution_count": 31,
     "metadata": {},
     "output_type": "execute_result"
    }
   ],
   "source": [
    "import pandas as pd\n",
    "df = pd.read_csv(\"https://people.sc.fsu.edu/~jburkardt/data/csv/cities.csv\",\n",
    "                 skipinitialspace=True) # need since lots of spaces after commas\n",
    "df.head(5)"
   ]
  },
  {
   "cell_type": "markdown",
   "id": "2f6a9918",
   "metadata": {},
   "source": [
    "For step two, it's easy to filter using a query like syntax.  Expression `df['State']=='WA'` gives us a vector of Boolean values indicating whether a row satisfies the conditions:"
   ]
  },
  {
   "cell_type": "code",
   "execution_count": 27,
   "id": "21d76ad7",
   "metadata": {},
   "outputs": [
    {
     "data": {
      "text/plain": [
       "0      False\n",
       "1      False\n",
       "2       True\n",
       "3      False\n",
       "4      False\n",
       "5      False\n",
       "6      False\n",
       "7      False\n",
       "8      False\n",
       "9      False\n",
       "10     False\n",
       "11     False\n",
       "12     False\n",
       "13     False\n",
       "14     False\n",
       "15     False\n",
       "16     False\n",
       "17      True\n",
       "18     False\n",
       "19     False\n",
       "20     False\n",
       "21     False\n",
       "22     False\n",
       "23     False\n",
       "24     False\n",
       "25     False\n",
       "26     False\n",
       "27     False\n",
       "28      True\n",
       "29     False\n",
       "       ...  \n",
       "98     False\n",
       "99     False\n",
       "100    False\n",
       "101    False\n",
       "102    False\n",
       "103    False\n",
       "104    False\n",
       "105    False\n",
       "106    False\n",
       "107    False\n",
       "108    False\n",
       "109    False\n",
       "110    False\n",
       "111    False\n",
       "112    False\n",
       "113    False\n",
       "114    False\n",
       "115    False\n",
       "116    False\n",
       "117    False\n",
       "118    False\n",
       "119    False\n",
       "120    False\n",
       "121    False\n",
       "122    False\n",
       "123    False\n",
       "124    False\n",
       "125    False\n",
       "126    False\n",
       "127    False\n",
       "Name: State, Length: 128, dtype: bool"
      ]
     },
     "execution_count": 27,
     "metadata": {},
     "output_type": "execute_result"
    }
   ],
   "source": [
    "df['State']=='WA'"
   ]
  },
  {
   "cell_type": "markdown",
   "id": "38c8c75b",
   "metadata": {},
   "source": [
    "That vector of Booleans is usable as an index into the rows of the data frame:"
   ]
  },
  {
   "cell_type": "code",
   "execution_count": 28,
   "id": "91e494a7",
   "metadata": {},
   "outputs": [
    {
     "data": {
      "text/html": [
       "<div>\n",
       "<style scoped>\n",
       "    .dataframe tbody tr th:only-of-type {\n",
       "        vertical-align: middle;\n",
       "    }\n",
       "\n",
       "    .dataframe tbody tr th {\n",
       "        vertical-align: top;\n",
       "    }\n",
       "\n",
       "    .dataframe thead th {\n",
       "        text-align: right;\n",
       "    }\n",
       "</style>\n",
       "<table border=\"1\" class=\"dataframe\">\n",
       "  <thead>\n",
       "    <tr style=\"text-align: right;\">\n",
       "      <th></th>\n",
       "      <th>LatD</th>\n",
       "      <th>LatM</th>\n",
       "      <th>LatS</th>\n",
       "      <th>NS</th>\n",
       "      <th>LonD</th>\n",
       "      <th>LonM</th>\n",
       "      <th>LonS</th>\n",
       "      <th>EW</th>\n",
       "      <th>City</th>\n",
       "      <th>State</th>\n",
       "    </tr>\n",
       "  </thead>\n",
       "  <tbody>\n",
       "    <tr>\n",
       "      <th>2</th>\n",
       "      <td>46</td>\n",
       "      <td>35</td>\n",
       "      <td>59</td>\n",
       "      <td>N</td>\n",
       "      <td>120</td>\n",
       "      <td>30</td>\n",
       "      <td>36</td>\n",
       "      <td>W</td>\n",
       "      <td>Yakima</td>\n",
       "      <td>WA</td>\n",
       "    </tr>\n",
       "    <tr>\n",
       "      <th>17</th>\n",
       "      <td>47</td>\n",
       "      <td>25</td>\n",
       "      <td>11</td>\n",
       "      <td>N</td>\n",
       "      <td>120</td>\n",
       "      <td>19</td>\n",
       "      <td>11</td>\n",
       "      <td>W</td>\n",
       "      <td>Wenatchee</td>\n",
       "      <td>WA</td>\n",
       "    </tr>\n",
       "    <tr>\n",
       "      <th>28</th>\n",
       "      <td>46</td>\n",
       "      <td>4</td>\n",
       "      <td>11</td>\n",
       "      <td>N</td>\n",
       "      <td>118</td>\n",
       "      <td>19</td>\n",
       "      <td>48</td>\n",
       "      <td>W</td>\n",
       "      <td>Walla Walla</td>\n",
       "      <td>WA</td>\n",
       "    </tr>\n",
       "    <tr>\n",
       "      <th>54</th>\n",
       "      <td>47</td>\n",
       "      <td>14</td>\n",
       "      <td>24</td>\n",
       "      <td>N</td>\n",
       "      <td>122</td>\n",
       "      <td>25</td>\n",
       "      <td>48</td>\n",
       "      <td>W</td>\n",
       "      <td>Tacoma</td>\n",
       "      <td>WA</td>\n",
       "    </tr>\n",
       "    <tr>\n",
       "      <th>68</th>\n",
       "      <td>47</td>\n",
       "      <td>40</td>\n",
       "      <td>11</td>\n",
       "      <td>N</td>\n",
       "      <td>117</td>\n",
       "      <td>24</td>\n",
       "      <td>36</td>\n",
       "      <td>W</td>\n",
       "      <td>Spokane</td>\n",
       "      <td>WA</td>\n",
       "    </tr>\n",
       "    <tr>\n",
       "      <th>78</th>\n",
       "      <td>47</td>\n",
       "      <td>35</td>\n",
       "      <td>59</td>\n",
       "      <td>N</td>\n",
       "      <td>122</td>\n",
       "      <td>19</td>\n",
       "      <td>48</td>\n",
       "      <td>W</td>\n",
       "      <td>Seattle</td>\n",
       "      <td>WA</td>\n",
       "    </tr>\n",
       "  </tbody>\n",
       "</table>\n",
       "</div>"
      ],
      "text/plain": [
       "    LatD  LatM  LatS NS  LonD  LonM  LonS EW         City State\n",
       "2     46    35    59  N   120    30    36  W       Yakima    WA\n",
       "17    47    25    11  N   120    19    11  W    Wenatchee    WA\n",
       "28    46     4    11  N   118    19    48  W  Walla Walla    WA\n",
       "54    47    14    24  N   122    25    48  W       Tacoma    WA\n",
       "68    47    40    11  N   117    24    36  W      Spokane    WA\n",
       "78    47    35    59  N   122    19    48  W      Seattle    WA"
      ]
     },
     "execution_count": 28,
     "metadata": {},
     "output_type": "execute_result"
    }
   ],
   "source": [
    "df_wa = df[df['State']=='WA']\n",
    "df_wa"
   ]
  },
  {
   "cell_type": "markdown",
   "id": "67727b39",
   "metadata": {},
   "source": [
    "Step three is also much easier using pandas:"
   ]
  },
  {
   "cell_type": "code",
   "execution_count": 29,
   "id": "e33015e7",
   "metadata": {},
   "outputs": [],
   "source": [
    "df_wa.to_csv(\"/tmp/wa_cities2.csv\", index=False)"
   ]
  },
  {
   "cell_type": "markdown",
   "id": "5d49482f",
   "metadata": {},
   "source": [
    "The final phase of our problem-solving template is to verify results, which we can do by comparing the two files we wrote to make sure they are the same.  Here I'm using the `diff` tool from the commandline."
   ]
  },
  {
   "cell_type": "code",
   "execution_count": 168,
   "id": "7f050eed",
   "metadata": {},
   "outputs": [],
   "source": [
    "! diff /tmp/wa_cities.csv  /tmp/wa_cities2.csv"
   ]
  },
  {
   "cell_type": "markdown",
   "id": "e0206543",
   "metadata": {},
   "source": [
    "Getting no output indicates there are no differences, which is what we want."
   ]
  },
  {
   "cell_type": "markdown",
   "id": "8314adb1",
   "metadata": {},
   "source": [
    "## Problem: simple EDA of the text corpus\n",
    "\n",
    "The goal of this exercise is to load all of the text files in a directory and compute an overall vocabulary and count per word. This would be the first step in understanding a corpus of text we wanted to analyze. For example, what is the most common word used in English?  It's almost certainly `the`, right? Another interesting question is the length of the average word and the size of the overall vocabulary.\n",
    " \n",
    "Took a look at the [Berlitz](https://github.com/parrt/msds501/tree/master/data/berlitz1) data directory that's part of this course is repository. You will see a series of text files. Here's a terminal command to find all files that have the word Israel in the name:"
   ]
  },
  {
   "cell_type": "code",
   "execution_count": 170,
   "id": "33d90837",
   "metadata": {},
   "outputs": [
    {
     "name": "stdout",
     "output_type": "stream",
     "text": [
      "../data/berlitz1/HandRIsrael.txt   ../data/berlitz1/WhatToIsrael.txt\n",
      "../data/berlitz1/HistoryIsrael.txt ../data/berlitz1/WhereToIsrael.txt\n",
      "../data/berlitz1/IntroIsrael.txt\n"
     ]
    }
   ],
   "source": [
    "! ls ../data/berlitz1/*Israel*"
   ]
  },
  {
   "cell_type": "markdown",
   "id": "27e94623",
   "metadata": {},
   "source": [
    "The overall steps needed to solve this problem are something like:\n",
    "\n",
    "1.  Get a list of all files in a directory\n",
    "2.  Walked the list of files and extract the text, appending it to an overall string\n",
    "3.  Normalize the contents string by converting to lowercase and calling `split()` to break up the string into a list of words\n",
    "4.  Report the total number of words, number of unique words, average word length, and perhaps the top 20 most common words\n",
    "\n",
    "A bit of googling will lead you to `os.listdir()` for step 1 and step number 2 is just a for-each loop over that list that uses the \"fetch file contents\" pattern we've seen before. Using the `+` operator, we can add strings to an overall `contents` variable. Step 3 is just two function calls to `lower()` and `split()`. Depending on our knowledge of available libraries, step 4 could be a lot of work or it very simple; let's code the other parts first."
   ]
  },
  {
   "cell_type": "code",
   "execution_count": 171,
   "id": "bc06f313",
   "metadata": {},
   "outputs": [
    {
     "name": "stdout",
     "output_type": "stream",
     "text": [
      "There are 520878 words in the contents\n"
     ]
    }
   ],
   "source": [
    "import os\n",
    "\n",
    "contents = \"\"\n",
    "for filename in os.listdir(\"../data/berlitz1\"):\n",
    "    with open(f\"../data/berlitz1/{filename}\", \"r\") as f:\n",
    "        s = f.read()\n",
    "        contents += \" \" # add space so words don't get stuck together\n",
    "        contents += s\n",
    "contents = contents.lower()\n",
    "words = contents.split()\n",
    "print(f\"There are {len(words)} words in the contents\")"
   ]
  },
  {
   "cell_type": "markdown",
   "id": "4fbbfabc",
   "metadata": {},
   "source": [
    "To get the unique words, we can either use numpy or `set(...)`. It looks like there are 57,894 words in the vocabulary:"
   ]
  },
  {
   "cell_type": "code",
   "execution_count": 172,
   "id": "a17b8cdb",
   "metadata": {},
   "outputs": [
    {
     "data": {
      "text/plain": [
       "(57894, 57894)"
      ]
     },
     "execution_count": 172,
     "metadata": {},
     "output_type": "execute_result"
    }
   ],
   "source": [
    "len(np.unique(words)), len(set(words))"
   ]
  },
  {
   "cell_type": "markdown",
   "id": "545e3c14",
   "metadata": {},
   "source": [
    "Let's work backwards: To compute the average word length, we need a list of the word lengths and can then just compute the mean using numpy.  To get the word lengths, we can use a list comprehension to walk through the words. The code then looks like this:"
   ]
  },
  {
   "cell_type": "code",
   "execution_count": 173,
   "id": "b2d945c9",
   "metadata": {},
   "outputs": [
    {
     "data": {
      "text/plain": [
       "5.0362503311715985"
      ]
     },
     "execution_count": 173,
     "metadata": {},
     "output_type": "execute_result"
    }
   ],
   "source": [
    "avg_len = np.mean([len(w) for w in words])\n",
    "avg_len"
   ]
  },
  {
   "cell_type": "markdown",
   "id": "8b382e67",
   "metadata": {},
   "source": [
    "Finally, we need to count the number of occurrences of the words, kind of like we did for the histogram exercise above. Since you know how to do that with your own code now, let's learn to use a built-in `Counter` object that does all the work for us:"
   ]
  },
  {
   "cell_type": "code",
   "execution_count": 174,
   "id": "57c0270c",
   "metadata": {},
   "outputs": [
    {
     "data": {
      "text/plain": [
       "[('the', 45163),\n",
       " ('of', 20438),\n",
       " ('and', 16739),\n",
       " ('a', 11830),\n",
       " ('in', 10670),\n",
       " ('to', 10473),\n",
       " ('is', 6845),\n",
       " ('for', 4282),\n",
       " ('on', 3909),\n",
       " ('with', 3762),\n",
       " ('from', 3604),\n",
       " ('by', 3263),\n",
       " ('are', 3190),\n",
       " ('as', 3104),\n",
       " ('at', 2884),\n",
       " ('was', 2686),\n",
       " ('its', 2539),\n",
       " ('it', 2499),\n",
       " ('you', 2406),\n",
       " ('that', 2146)]"
      ]
     },
     "execution_count": 174,
     "metadata": {},
     "output_type": "execute_result"
    }
   ],
   "source": [
    "from collections import Counter\n",
    "\n",
    "ctr = Counter(words)\n",
    "c = ctr.most_common(20)\n",
    "c"
   ]
  },
  {
   "cell_type": "markdown",
   "id": "d824c507",
   "metadata": {},
   "source": [
    "The solution to this problem is not too hard given all of the libraries we have available to us.\n",
    "\n",
    "Let's also plot the counts to see the relationship between frequencies and just how fast it drops off."
   ]
  },
  {
   "cell_type": "code",
   "execution_count": 175,
   "id": "3a7f0b27",
   "metadata": {},
   "outputs": [],
   "source": [
    "c = np.array(c)\n",
    "wds = c[:,0]\n",
    "counts = c[:,1].astype(int)  # numpy converted c to strings"
   ]
  },
  {
   "cell_type": "code",
   "execution_count": 176,
   "id": "6c6501d2",
   "metadata": {},
   "outputs": [
    {
     "data": {
      "image/png": "[encoded data removed]",
      "text/plain": [
       "<Figure size 612x180 with 1 Axes>"
      ]
     },
     "metadata": {
      "image/png": {
       "height": 166,
       "width": 527
      },
      "needs_background": "light"
     },
     "output_type": "display_data"
    }
   ],
   "source": [
    "fig, ax = plt.subplots(1,1,figsize=(8.5,2.5))\n",
    "barcontainers = ax.bar(x=wds, height=counts, color='#FEE08F')\n",
    "\n",
    "# make it look good\n",
    "ax.spines['top'].set_visible(False)\n",
    "ax.spines['right'].set_visible(False)\n",
    "ax.spines['left'].set_linewidth(.5)\n",
    "ax.spines['bottom'].set_linewidth(.5)\n",
    "for rect in barcontainers.patches:\n",
    "    rect.set_linewidth(.5)\n",
    "    rect.set_edgecolor('grey')\n",
    "\n",
    "plt.show()"
   ]
  },
  {
   "cell_type": "markdown",
   "id": "52915832",
   "metadata": {},
   "source": [
    "## Problem: Extract person and place names from a document\n",
    "\n",
    "**Warning**: On M1 macs, use `conda install spacy` not `pip install spacy`. See [issues with M1 and spaCy](https://github.com/explosion/spaCy/issues/7962).  (Hmm...Aug 1, 2021 `pip` worked again on Big Sur OS X.)\n",
    "\n",
    "Imagine trying to analyze a text document. One of the things you might want to know is who is referenced within. This is actually an extremely hard problem to solve, but fortunately the people at [spaCy](https://spacy.io) have provided a library that does a very good job. All we have to do is put the glue around it. To install it, we need a library and their model of English:\n",
    " \n",
    "```bash\n",
    "$ pip install spacy\n",
    "$ python -m spacy download en_core_web_sm\n",
    "...\n",
    "```\n",
    "\n",
    "If we have a library that can identify the names within a document, the overall process is straightforward:\n",
    "\n",
    "1. Load the text of a file into a string variable\n",
    "2. Give the string to the spaCy library and ask it to analyze the text\n",
    "3. Walk the list of names and add them to a set, which will create a unique collection\n",
    "\n",
    "Our implementation starts with an import and loading of the English model:"
   ]
  },
  {
   "cell_type": "code",
   "execution_count": 178,
   "id": "ff5e3ecd",
   "metadata": {},
   "outputs": [],
   "source": [
    "import spacy\n",
    "nlp = spacy.load(\"en_core_web_sm\")"
   ]
  },
  {
   "cell_type": "markdown",
   "id": "9d55aeb3",
   "metadata": {},
   "source": [
    "Next, we load the text of a sample file and give it to the `nlp` object that represents the English model:"
   ]
  },
  {
   "cell_type": "code",
   "execution_count": 179,
   "id": "c2143c34",
   "metadata": {},
   "outputs": [],
   "source": [
    "with open(f\"../data/berlitz1/WhatToJamaica.txt\", \"r\") as f:\n",
    "    s = f.read()\n",
    "doc = nlp(s)"
   ]
  },
  {
   "cell_type": "markdown",
   "id": "1fcbcf4b",
   "metadata": {},
   "source": [
    "The `doc` object represents the analyzed document and `doc.ents` represents a list of entities found during analysis. We can walk those entities with a for-each loop and, if the type of the entity is a person, we can add it to our unique set.  From the documentation of spaCy, I saw that `entity.label_` gives us the associated entity type and `entity.text` gives us the text of that entity:"
   ]
  },
  {
   "cell_type": "code",
   "execution_count": 182,
   "id": "7f6d0565",
   "metadata": {},
   "outputs": [
    {
     "data": {
      "text/plain": [
       "['Accompong',\n",
       " 'Alfred Mitchell',\n",
       " 'Andrew\\n        Young',\n",
       " 'Annie',\n",
       " 'Arawak',\n",
       " 'Athenry Gardens',\n",
       " 'Bamboo Avenue',\n",
       " 'Barrett',\n",
       " 'Bettin',\n",
       " 'Bligh',\n",
       " 'Bob Marley',\n",
       " 'Bob Marley Museum',\n",
       " 'Bonnie View Hotel',\n",
       " 'Charles Square',\n",
       " 'Charlie',\n",
       " 'Charlie Chaplin',\n",
       " 'Cocktail',\n",
       " 'Cornwall Barracks',\n",
       " 'Coward',\n",
       " 'Dustin Hoffman']"
      ]
     },
     "execution_count": 182,
     "metadata": {},
     "output_type": "execute_result"
    }
   ],
   "source": [
    "names = set()\n",
    "for entity in doc.ents:\n",
    "    if entity.label_==\"PERSON\":\n",
    "        names.add(entity.text)\n",
    "sorted(names)[:20]"
   ]
  },
  {
   "cell_type": "markdown",
   "id": "02af0784",
   "metadata": {},
   "source": [
    "That does a reasonable job, but also seems to include a lot of organizations and locations. For fun, we can also look for organizations and geopolitical entities"
   ]
  },
  {
   "cell_type": "code",
   "execution_count": 183,
   "id": "1e592b9b",
   "metadata": {},
   "outputs": [
    {
     "data": {
      "text/plain": [
       "['Air Force',\n",
       " 'Alligator Hole',\n",
       " 'Amsterdam',\n",
       " 'Anchovy',\n",
       " 'Annie Palmer\\n        ',\n",
       " 'Annie Palmers',\n",
       " 'Appleton Distillery',\n",
       " 'Berridale',\n",
       " 'Black\\n        River',\n",
       " 'Blue Lagoon',\n",
       " 'Blue Mountain',\n",
       " 'Blue Mountain\\n        ',\n",
       " 'Blue Mountain Peak',\n",
       " 'Bond',\n",
       " 'Boston',\n",
       " 'Boston Bay',\n",
       " 'Britain',\n",
       " 'British\\n        Intelligence',\n",
       " 'Canoe\\n        Valley Wetland',\n",
       " 'Carinosa']"
      ]
     },
     "execution_count": 183,
     "metadata": {},
     "output_type": "execute_result"
    }
   ],
   "source": [
    "orgs = set()\n",
    "for entity in doc.ents:\n",
    "    if entity.label_==\"ORG\" or entity.label_==\"GPE\":\n",
    "        orgs.add(entity.text)\n",
    "sorted(orgs)[:20]"
   ]
  }
 ],
 "metadata": {
  "kernelspec": {
   "display_name": "Python 3 (ipykernel)",
   "language": "python",
   "name": "python3"
  },
  "language_info": {
   "codemirror_mode": {
    "name": "ipython",
    "version": 3
   },
   "file_extension": ".py",
   "mimetype": "text/x-python",
   "name": "python",
   "nbconvert_exporter": "python",
   "pygments_lexer": "ipython3",
   "version": "3.11.8"
  }
 },
 "nbformat": 4,
 "nbformat_minor": 5
}
