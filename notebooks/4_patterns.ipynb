{
 "cells": [
  {
   "cell_type": "markdown",
   "id": "d827a0fa-cda4-4a5c-a9da-3f5dd6d12168",
   "metadata": {},
   "source": [
    "### Let's work on these exercises. What patterns are we applying in each one?"
   ]
  },
  {
   "cell_type": "markdown",
   "id": "38f90a93-58de-46ae-8310-f7f69a0cee35",
   "metadata": {},
   "source": [
    "1. Given a list of prices, cut the price of each in half"
   ]
  },
  {
   "cell_type": "code",
   "execution_count": 1,
   "id": "8d067ea3-b289-4305-807d-61aea8b1e2c1",
   "metadata": {},
   "outputs": [],
   "source": [
    "prices = [38.94, 208.16, 8.69, 195.99]"
   ]
  },
  {
   "cell_type": "markdown",
   "id": "2f94b753-8367-45ac-a11a-eb3442399e1c",
   "metadata": {},
   "source": [
    "2. Using a list comprehension, give an expression that computes a new list containing the string length of names in the following list."
   ]
  },
  {
   "cell_type": "code",
   "execution_count": 3,
   "id": "c0e48f78-b078-4aad-ac4b-b5f3c2edcd87",
   "metadata": {},
   "outputs": [],
   "source": [
    "names = ['Lea', 'Xue', 'Shruti', 'Alba']"
   ]
  },
  {
   "cell_type": "markdown",
   "id": "69a396c0-0df9-4575-9cd8-ef245aee0fdd",
   "metadata": {},
   "source": [
    "3. Given a list of prices, get a list of prices greater than $100"
   ]
  },
  {
   "cell_type": "markdown",
   "id": "3edbb208-7107-4809-bd48-e992aaa5932c",
   "metadata": {},
   "source": [
    "4. Given a list of prices, double any price less than $10"
   ]
  },
  {
   "cell_type": "markdown",
   "id": "53fee0e2-dd60-47ba-9ad4-d39b08ab7636",
   "metadata": {},
   "source": [
    "5. Given a list of strings titles, how many are 3-words long?"
   ]
  },
  {
   "cell_type": "code",
   "execution_count": 6,
   "id": "5f60b7f2-6924-4ae7-b6ea-8ce9eee58fa6",
   "metadata": {},
   "outputs": [],
   "source": [
    "string_list = [\"This is a test\", \"Hello world!\", \"Python is awesome\", \"I love coding\"]"
   ]
  },
  {
   "cell_type": "markdown",
   "id": "a638c99e-6eba-4984-a914-589c08999d5b",
   "metadata": {},
   "source": [
    "6. Given a squared matrix computer the trace. What pattern is this?"
   ]
  },
  {
   "cell_type": "code",
   "execution_count": 1,
   "id": "31640c6f-9b0e-4fa5-9787-67fbefa019f1",
   "metadata": {},
   "outputs": [],
   "source": [
    "matrix = [\n",
    "    [1, 2, 3],\n",
    "    [4, 5, 6],\n",
    "    [7, 8, 9]\n",
    "]"
   ]
  },
  {
   "cell_type": "markdown",
   "id": "5e1316f8-ec28-4d93-92de-add7fb781aef",
   "metadata": {},
   "source": [
    "7. Save the following function in a .py file called string_operations.py. Then, write a pytest file containing three functions to test reverse_string."
   ]
  },
  {
   "cell_type": "code",
   "execution_count": 2,
   "id": "1eff5a8d-bf17-4d32-a736-9b10432dc83e",
   "metadata": {},
   "outputs": [],
   "source": [
    "def reverse_string(s):\n",
    "    return s[::-1]"
   ]
  },
  {
   "cell_type": "code",
   "execution_count": null,
   "id": "4b67cebf-749e-4211-a039-d5fab1ac1693",
   "metadata": {},
   "outputs": [],
   "source": []
  }
 ],
 "metadata": {
  "kernelspec": {
   "display_name": "Python 3 (ipykernel)",
   "language": "python",
   "name": "python3"
  },
  "language_info": {
   "codemirror_mode": {
    "name": "ipython",
    "version": 3
   },
   "file_extension": ".py",
   "mimetype": "text/x-python",
   "name": "python",
   "nbconvert_exporter": "python",
   "pygments_lexer": "ipython3",
   "version": "3.11.8"
  }
 },
 "nbformat": 4,
 "nbformat_minor": 5
}
