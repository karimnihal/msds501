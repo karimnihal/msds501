{
 "cells": [
  {
   "cell_type": "markdown",
   "id": "76806305-6371-4fdc-8186-d74308a9f169",
   "metadata": {},
   "source": [
    "## Intro "
   ]
  },
  {
   "cell_type": "markdown",
   "id": "173f0afa-313e-445c-a0b1-26c3e19e9a2e",
   "metadata": {},
   "source": [
    "Practicing:\n",
    "- \"+\" and \"*\" operations\n",
    "- basic loops\n",
    "- lists\n",
    "- aliasing"
   ]
  },
  {
   "cell_type": "markdown",
   "id": "3e193bd1-9925-4c2e-b4ad-479ffff81168",
   "metadata": {},
   "source": [
    "**Task 1**: Given a list of words, concatenate all the words into a single string with a space between each word.\n",
    "\n",
    "Example 1:\n",
    "words = [\"Hello\", \"World\"]\n",
    "\n",
    "Example 2:\n",
    "words = [\"Hello\", \"world\", \"this\", \"is\", \"Python\"]\n",
    "\n",
    "Note: for the second list you want to write a loop."
   ]
  },
  {
   "cell_type": "code",
   "execution_count": 1,
   "id": "c9362a68-2cee-42f9-a112-c83879c6c68d",
   "metadata": {},
   "outputs": [],
   "source": [
    "## Your code here"
   ]
  },
  {
   "cell_type": "markdown",
   "id": "7887565e-b989-48ce-8ca1-9669ff40fb98",
   "metadata": {},
   "source": [
    "**Task 2**: Given a string word and an integer repeat_count, generate a banner pattern by repeating the word multiple times and stacking these repetitions to form a rectangular block.\n",
    "\n",
    "word = \"Python\"\n",
    "\n",
    "repeat_count = 4\n",
    "\n",
    "Output:\n",
    "```\n",
    "PythonPythonPythonPython\n",
    "PythonPythonPythonPython\n",
    "PythonPythonPythonPython\n",
    "PythonPythonPythonPython\n",
    "```\n",
    "Hint: \"\\n\" will give you the end of the line."
   ]
  },
  {
   "cell_type": "code",
   "execution_count": 6,
   "id": "aaf5cc3e-f514-4852-9b94-755341e77949",
   "metadata": {},
   "outputs": [],
   "source": [
    "## Your code here"
   ]
  },
  {
   "cell_type": "markdown",
   "id": "fdc1c134-e7e1-4dad-aa41-e6ba357eb66c",
   "metadata": {},
   "source": [
    "**Task 3:** Given two lists of strings, list1 and list2, representing the favorite fruits of two different people. The function should concatenate these two lists into a single list, remove any duplicate fruits, and return the list sorted in alphabetical order.\n",
    "\n",
    "```\n",
    "Inputs:\n",
    "list1 = [\"apple\", \"banana\", \"cherry\"]\n",
    "list2 = [\"banana\", \"date\", \"elderberry\", \"fig\"]\n",
    "Output:\n",
    "[\"apple\", \"banana\", \"cherry\", \"date\", \"elderberry\", \"fig\"]\n",
    "```\n",
    "Hint: my_list.sort() sorts your list."
   ]
  },
  {
   "cell_type": "code",
   "execution_count": 7,
   "id": "734d15a6-54d8-428c-831d-c7fd05a35a19",
   "metadata": {},
   "outputs": [],
   "source": [
    "## Your code here"
   ]
  },
  {
   "cell_type": "markdown",
   "id": "77c16e98-1b25-41a2-b077-eb598a8476d3",
   "metadata": {},
   "source": [
    "**Task 4**: Given a list of names (strings) and returns a new list where the first letter of each name is capitalized.\n",
    "\n",
    "```\n",
    "Input:\n",
    "names = [\"alice\", \"bob\", \"charlie\"]\n",
    "Output:\n",
    "[\"Alice\", \"Bob\", \"Charlie\"]\n",
    "```\n",
    "Hint: the upper() function will upper case a string."
   ]
  },
  {
   "cell_type": "code",
   "execution_count": 8,
   "id": "dd532894-af74-4cd9-a7b8-535794ad479d",
   "metadata": {},
   "outputs": [],
   "source": [
    "## Your code here"
   ]
  },
  {
   "cell_type": "markdown",
   "id": "6c6ef867-8779-4a36-b61f-2bd17c456d1f",
   "metadata": {},
   "source": [
    "**Task 5**: Given a list of names (strings) as input and returns a new list containing only the names that start with a vowel.\n",
    "\n",
    "```\n",
    "Input:\n",
    "names = [\"Alice\", \"Bob\", \"Eve\", \"Charlie\", \"Ivan\", \"Olivia\"]\n",
    "Output:\n",
    "[\"Alice\", \"Eve\", \"Ivan\", \"Olivia\"]\n",
    "```\n",
    "Hint: check if the first letter is in \"aeiouAEIOU\". This is a perfect problem for a list comprehension."
   ]
  },
  {
   "cell_type": "code",
   "execution_count": 9,
   "id": "63305b7c-ab82-4002-bdca-947625973185",
   "metadata": {},
   "outputs": [],
   "source": [
    "## Your code here"
   ]
  },
  {
   "cell_type": "markdown",
   "id": "8ed6efe6-3bd1-4b7a-8154-f890f9a64a9f",
   "metadata": {},
   "source": [
    "**Task 6:**  Without running any code, what is the value of list1 after executing the following code?\n",
    "```\n",
    "list1 = [1, 2, 3, 4, 5]\n",
    "list2 = list1\n",
    "list2[0] = 100\n",
    "```"
   ]
  },
  {
   "cell_type": "markdown",
   "id": "004f30f1-623f-4a2c-85c9-0c7d1d030699",
   "metadata": {},
   "source": [
    "## OPTIONAL\n",
    "1. Given a non-empty string like \"Code\" return a string like \"CCoCodCode\".\n",
    "\n",
    "```\n",
    "Input: 'Code'\n",
    "Output: 'CCoCodCode'\n",
    "\n",
    "Input: 'abc'\n",
    "Ouput: 'aababc'\n",
    "\n",
    "Input: 'ab'\n",
    "Output: 'aab'\n",
    "```\n",
    "\n",
    "2. Write a function that reverses a string. The input string is given as an array of characters s. You must do this by modifying the input array in-place.\n",
    "```\n",
    "Input: s = [\"h\",\"e\",\"l\",\"l\",\"o\"]\n",
    "Output: [\"o\",\"l\",\"l\",\"e\",\"h\"]\n",
    "```"
   ]
  },
  {
   "cell_type": "code",
   "execution_count": null,
   "id": "21dc62d1-9729-4b65-b5bd-667379ad07cf",
   "metadata": {},
   "outputs": [],
   "source": []
  }
 ],
 "metadata": {
  "kernelspec": {
   "display_name": "Python 3 (ipykernel)",
   "language": "python",
   "name": "python3"
  },
  "language_info": {
   "codemirror_mode": {
    "name": "ipython",
    "version": 3
   },
   "file_extension": ".py",
   "mimetype": "text/x-python",
   "name": "python",
   "nbconvert_exporter": "python",
   "pygments_lexer": "ipython3",
   "version": "3.11.8"
  }
 },
 "nbformat": 4,
 "nbformat_minor": 5
}
