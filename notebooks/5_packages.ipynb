{
 "cells": [
  {
   "cell_type": "markdown",
   "id": "4cd86a9a-949f-4ccf-8639-e0c42e11cd09",
   "metadata": {},
   "source": [
    "## Packages and modules lab"
   ]
  },
  {
   "cell_type": "markdown",
   "id": "aff73742-6af9-4a66-b10b-10913eac5261",
   "metadata": {},
   "source": [
    "The goal of this lab is to get familiar importing existing packages/modules and to create and import your own modules."
   ]
  },
  {
   "cell_type": "markdown",
   "id": "445210a5-0057-4b87-90ee-31fd38c53370",
   "metadata": {},
   "source": [
    "### Importing standard packages"
   ]
  },
  {
   "cell_type": "code",
   "execution_count": 25,
   "id": "ab018890-d546-42c8-b3ee-143c13cc99d8",
   "metadata": {},
   "outputs": [],
   "source": [
    "import math\n",
    "import numpy as np\n",
    "import pandas as pd"
   ]
  },
  {
   "cell_type": "markdown",
   "id": "a1e6be8f-4dc0-4e00-857a-c049fc623a54",
   "metadata": {},
   "source": [
    "Let's verify that the import statements have worked:"
   ]
  },
  {
   "cell_type": "code",
   "execution_count": 27,
   "id": "31db7989-5251-41c9-9b3e-3c62c9ce2654",
   "metadata": {},
   "outputs": [
    {
     "name": "stdout",
     "output_type": "stream",
     "text": [
      "3.141592653589793\n",
      "6\n",
      "    ID user\n",
      "0  100    A\n",
      "1  105    B\n"
     ]
    }
   ],
   "source": [
    "print(math.pi)\n",
    "print(np.sum(np.array([1,2,3])))\n",
    "\n",
    "df = pd.DataFrame([[100,'A'],[105,'B']],\n",
    "                  columns=['ID','user'])\n",
    "print(df)"
   ]
  },
  {
   "cell_type": "markdown",
   "id": "f95ea19d-e6f0-4d85-80a4-fd5987dfb7fc",
   "metadata": {},
   "source": [
    "Let's experiment with a different import statement that imports a single variable rather than all variables from a module. This enables us to directly reference `pi` instead of using the package name prefix `math.pi`."
   ]
  },
  {
   "cell_type": "code",
   "execution_count": 29,
   "id": "f94570e8-e3d6-4472-9c1e-dbc591d1f2e1",
   "metadata": {},
   "outputs": [
    {
     "name": "stdout",
     "output_type": "stream",
     "text": [
      "3.141592653589793\n"
     ]
    }
   ],
   "source": [
    "from math import pi\n",
    "print(pi)"
   ]
  },
  {
   "cell_type": "markdown",
   "id": "1b773706-d934-4760-9bd4-4794d304abb0",
   "metadata": {},
   "source": [
    "## Importing our own module"
   ]
  },
  {
   "cell_type": "markdown",
   "id": "0328bdc2-f77e-484e-b7f0-df158f66ca5d",
   "metadata": {},
   "source": [
    "Create a file called `mymath.py` that will hold a variable and function definition:"
   ]
  },
  {
   "cell_type": "code",
   "execution_count": 30,
   "id": "2d50510a-b6fa-4117-99b1-ef98c43073e4",
   "metadata": {},
   "outputs": [],
   "source": [
    "pi = 3.14159\n",
    "\n",
    "def pow2(n):\n",
    "    v = 1\n",
    "    for i in range(n):\n",
    "        v *= 2\n",
    "    return v"
   ]
  },
  {
   "cell_type": "markdown",
   "id": "ce8df5ad-0b51-42df-8f3f-07eafaa212c9",
   "metadata": {},
   "source": [
    "Now, create a script called usemymath.py that will import that code and test it:\n"
   ]
  },
  {
   "cell_type": "markdown",
   "id": "87e939bf-db9e-4001-a8bc-7e60c0c808ac",
   "metadata": {},
   "source": [
    "from mymath import *\n",
    "\n",
    "print(pi)\n",
    "print(pow2(0))\n",
    "print(pow2(10))"
   ]
  },
  {
   "cell_type": "markdown",
   "id": "43d4a5ea-35f7-4813-9649-5c8cef772a48",
   "metadata": {},
   "source": [
    "From the command line the output looks like this:\n",
    "\n",
    "$ python usemymath.py \n",
    "3.14159\n",
    "1\n",
    "1024"
   ]
  }
 ],
 "metadata": {
  "kernelspec": {
   "display_name": "Python 3 (ipykernel)",
   "language": "python",
   "name": "python3"
  },
  "language_info": {
   "codemirror_mode": {
    "name": "ipython",
    "version": 3
   },
   "file_extension": ".py",
   "mimetype": "text/x-python",
   "name": "python",
   "nbconvert_exporter": "python",
   "pygments_lexer": "ipython3",
   "version": "3.11.8"
  }
 },
 "nbformat": 4,
 "nbformat_minor": 5
}
