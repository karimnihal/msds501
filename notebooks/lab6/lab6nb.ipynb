{
 "cells": [
  {
   "cell_type": "code",
   "execution_count": 1,
   "metadata": {},
   "outputs": [],
   "source": [
    "def largest_unique_integer(nums):\n",
    "    #utlize dictionary for indexing counts\n",
    "    count = {}\n",
    "    for num in nums:\n",
    "        if num in count:\n",
    "            count[num] += 1\n",
    "        else:\n",
    "            count[num] = 1\n",
    "    max_val = -1\n",
    "    for num, i in count.items():\n",
    "        if i == 1:\n",
    "            if num > max_val:\n",
    "                max_val = num\n",
    "\n",
    "    return max_val"
   ]
  },
  {
   "cell_type": "code",
   "execution_count": null,
   "metadata": {},
   "outputs": [],
   "source": []
  },
  {
   "cell_type": "code",
   "execution_count": 3,
   "metadata": {},
   "outputs": [
    {
     "name": "stdout",
     "output_type": "stream",
     "text": [
      "8\n",
      "3\n",
      "-1\n"
     ]
    }
   ],
   "source": [
    "print(largest_unique_integer([5, 7, 3, 9, 4, 9, 8, 3, 1]))\n",
    "print(largest_unique_integer([1, 1, 1, 2, 2, 3, 4, 4, 4]))\n",
    "print(largest_unique_integer([9, 9, 8, 8, 7, 7]))\n",
    "#Output - 8 , 3 , -1"
   ]
  }
 ],
 "metadata": {
  "kernelspec": {
   "display_name": "base",
   "language": "python",
   "name": "python3"
  },
  "language_info": {
   "codemirror_mode": {
    "name": "ipython",
    "version": 3
   },
   "file_extension": ".py",
   "mimetype": "text/x-python",
   "name": "python",
   "nbconvert_exporter": "python",
   "pygments_lexer": "ipython3",
   "version": "3.12.4"
  }
 },
 "nbformat": 4,
 "nbformat_minor": 2
}
